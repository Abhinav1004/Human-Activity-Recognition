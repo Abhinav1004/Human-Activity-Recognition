{
 "cells": [
  {
   "cell_type": "markdown",
   "metadata": {},
   "source": [
    "# HumanActivityRecognition\n",
    "\n",
    "<br>\n",
    "\n",
    "\n",
    "This project is to build a model that predicts the human activities such as Walking, Walking_Upstairs, Walking_Downstairs, Sitting, Standing or Laying.\n",
    "\n",
    "This dataset is collected from 30 persons(referred as subjects in this dataset), performing different activities with a smartphone to their waists. The data is recorded with the help of sensors (accelerometer and Gyroscope) in that smartphone. This experiment was video recorded to label the data manually.\n",
    "\n",
    "## How data was recorded\n",
    "\n",
    "By using the sensors(Gyroscope and accelerometer) in a smartphone, they have captured '3-axial linear acceleration'(_tAcc-XYZ_) from accelerometer and '3-axial angular velocity' (_tGyro-XYZ_) from Gyroscope with several variations. \n",
    "\n",
    "> prefix 't' in those metrics denotes time.\n",
    "\n",
    "> suffix 'XYZ' represents 3-axial signals in X , Y, and Z directions.\n",
    "\n",
    "### Feature names\n",
    "\n",
    "1. These sensor signals are preprocessed by applying noise filters and then sampled in fixed-width windows(sliding windows) of 2.56 seconds each with 50% overlap. ie., each window has 128 readings. \n",
    "\n",
    "2. From Each window, a feature vector was obtianed by calculating variables from the time and frequency domain.\n",
    "> In our dataset, each datapoint represents a window with different readings \n",
    "3. The accelertion signal was saperated into Body and Gravity acceleration signals(___tBodyAcc-XYZ___ and ___tGravityAcc-XYZ___) using some low pass filter with corner frequecy of 0.3Hz.\n",
    "\n",
    "4. After that, the body linear acceleration and angular velocity were derived in time to obtian _jerk signals_ (___tBodyAccJerk-XYZ___ and ___tBodyGyroJerk-XYZ___). \n",
    "\n",
    "5. The magnitude of these 3-dimensional signals were calculated using the Euclidian norm. This magnitudes are represented as features with names like _tBodyAccMag_, _tGravityAccMag_, _tBodyAccJerkMag_, _tBodyGyroMag_ and _tBodyGyroJerkMag_.\n",
    "\n",
    "6. Finally, We've got frequency domain signals from some of the available signals by applying a FFT (Fast Fourier Transform). These signals obtained were labeled with ___prefix 'f'___ just like original signals with ___prefix 't'___. These signals are labeled as ___fBodyAcc-XYZ___, ___fBodyGyroMag___ etc.,.\n",
    "\n",
    "7. These are the signals that we got so far.\n",
    "\t+ tBodyAcc-XYZ\n",
    "\t+ tGravityAcc-XYZ\n",
    "\t+ tBodyAccJerk-XYZ\n",
    "\t+ tBodyGyro-XYZ\n",
    "\t+ tBodyGyroJerk-XYZ\n",
    "\t+ tBodyAccMag\n",
    "\t+ tGravityAccMag\n",
    "\t+ tBodyAccJerkMag\n",
    "\t+ tBodyGyroMag\n",
    "\t+ tBodyGyroJerkMag\n",
    "\t+ fBodyAcc-XYZ\n",
    "\t+ fBodyAccJerk-XYZ\n",
    "\t+ fBodyGyro-XYZ\n",
    "\t+ fBodyAccMag\n",
    "\t+ fBodyAccJerkMag\n",
    "\t+ fBodyGyroMag\n",
    "\t+ fBodyGyroJerkMag\n",
    "\n",
    "8. We can esitmate some set of variables from the above signals. ie., We will estimate the following properties on each and every signal that we recoreded so far.\n",
    "\n",
    "\t+ ___mean()___: Mean value\n",
    "\t+ ___std()___: Standard deviation\n",
    "\t+ ___mad()___: Median absolute deviation \n",
    "\t+ ___max()___: Largest value in array\n",
    "\t+ ___min()___: Smallest value in array\n",
    "\t+ ___sma()___: Signal magnitude area\n",
    "\t+ ___energy()___: Energy measure. Sum of the squares divided by the number of values. \n",
    "\t+ ___iqr()___: Interquartile range \n",
    "\t+ ___entropy()___: Signal entropy\n",
    "\t+ ___arCoeff()___: Autorregresion coefficients with Burg order equal to 4\n",
    "\t+ ___correlation()___: correlation coefficient between two signals\n",
    "\t+ ___maxInds()___: index of the frequency component with largest magnitude\n",
    "\t+ ___meanFreq()___: Weighted average of the frequency components to obtain a mean frequency\n",
    "\t+ ___skewness()___: skewness of the frequency domain signal \n",
    "\t+ ___kurtosis()___: kurtosis of the frequency domain signal \n",
    "\t+ ___bandsEnergy()___: Energy of a frequency interval within the 64 bins of the FFT of each window.\n",
    "\t+ ___angle()___: Angle between to vectors.\n",
    "\n",
    "9. We can obtain some other vectors by taking the average of signals in a single window sample. These are used on the angle() variable'\n",
    "`\n",
    "\t+ gravityMean\n",
    "\t+ tBodyAccMean\n",
    "\t+ tBodyAccJerkMean\n",
    "\t+ tBodyGyroMean\n",
    "\t+ tBodyGyroJerkMean\n",
    "\n",
    "\n",
    "###  Y_Labels(Encoded)\n",
    "+ In the dataset, Y_labels are represented as numbers from 1 to 6 as their identifiers.\n",
    "\n",
    "\t- WALKING as __1__\n",
    "\t- WALKING_UPSTAIRS as __2__\n",
    "\t- WALKING_DOWNSTAIRS as __3__\n",
    "\t- SITTING as __4__\n",
    "\t- STANDING as __5__\n",
    "\t- LAYING as __6__\n",
    "    \n",
    "## Train and test data were saperated\n",
    " - The readings from ___70%___ of the volunteers were taken as ___trianing data___ and remaining ___30%___ subjects recordings were taken for ___test data___\n",
    " \n",
    "## Data\n",
    "\n",
    "* All the data is present in 'UCI_HAR_dataset/' folder in present working directory.\n",
    "     - Feature names are present in 'UCI_HAR_dataset/features.txt'\n",
    "     - ___Train Data___\n",
    "         - 'UCI_HAR_dataset/train/X_train.txt'\n",
    "         - 'UCI_HAR_dataset/train/subject_train.txt'\n",
    "         - 'UCI_HAR_dataset/train/y_train.txt'\n",
    "     - ___Test Data___\n",
    "         - 'UCI_HAR_dataset/test/X_test.txt'\n",
    "         - 'UCI_HAR_dataset/test/subject_test.txt'\n",
    "         - 'UCI_HAR_dataset/test/y_test.txt'\n",
    "         \n",
    "\n",
    "## Data Size :\n",
    "> 27 MB\n"
   ]
  },
  {
   "cell_type": "markdown",
   "metadata": {},
   "source": [
    " "
   ]
  },
  {
   "cell_type": "markdown",
   "metadata": {},
   "source": [
    " "
   ]
  },
  {
   "cell_type": "markdown",
   "metadata": {},
   "source": [
    " "
   ]
  },
  {
   "cell_type": "markdown",
   "metadata": {},
   "source": [
    "# Quick overview of the dataset :\n"
   ]
  },
  {
   "cell_type": "markdown",
   "metadata": {},
   "source": [
    "\n",
    "* Accelerometer and Gyroscope readings are taken from 30 volunteers(referred as subjects) while performing the following 6 Activities.\n",
    "\n",
    "    1. Walking     \n",
    "    2. WalkingUpstairs \n",
    "    3. WalkingDownstairs \n",
    "    4. Standing \n",
    "    5. Sitting \n",
    "    6. Lying.\n",
    "\n",
    "\n",
    "* Readings are divided into a window of 2.56 seconds with 50% overlapping. \n",
    "\n",
    "* Accelerometer readings are divided into gravity acceleration and body acceleration readings,\n",
    "  which has x,y and z components each.\n",
    "\n",
    "* Gyroscope readings are the measure of angular velocities which has x,y and z components.\n",
    "\n",
    "* Jerk signals are calculated for BodyAcceleration readings.\n",
    "\n",
    "* Fourier Transforms are made on the above time readings to obtain frequency readings.\n",
    "\n",
    "* Now, on all the base signal readings., mean, max, mad, sma, arcoefficient, engerybands,entropy etc., are calculated for each window.\n",
    "\n",
    "* We get a feature vector of 561 features and these features are given in the dataset.\n",
    "\n",
    "* Each window of readings is a datapoint of 561 features.\n",
    "\n",
    "## Problem Framework\n",
    "\n",
    "* 30 subjects(volunteers) data is randomly split to 70%(21) test and 30%(7) train data.\n",
    "* Each datapoint corresponds one of the 6 Activities.\n"
   ]
  },
  {
   "cell_type": "markdown",
   "metadata": {},
   "source": [
    "## Problem Statement\n",
    "\n",
    " + Given a new datapoint we have to predict the Activity"
   ]
  },
  {
   "cell_type": "markdown",
   "metadata": {},
   "source": [
    " "
   ]
  },
  {
   "cell_type": "code",
   "execution_count": 1,
   "metadata": {},
   "outputs": [
    {
     "name": "stdout",
     "output_type": "stream",
     "text": [
      "No of Features: 561\n"
     ]
    }
   ],
   "source": [
    "import numpy as np\n",
    "import pandas as pd\n",
    "import seaborn as sns\n",
    "\n",
    "# get the features from the file features.txt\n",
    "features = list()\n",
    "with open('UCI_HAR_Dataset/features.txt') as f:\n",
    "    features = [line.split()[1] for line in f.readlines()]\n",
    "print('No of Features: {}'.format(len(features)))\n"
   ]
  },
  {
   "cell_type": "code",
   "execution_count": 2,
   "metadata": {},
   "outputs": [
    {
     "name": "stdout",
     "output_type": "stream",
     "text": [
      "fBodyAcc-bandsEnergy()-1,8\n",
      "fBodyAcc-bandsEnergy()-9,16\n",
      "fBodyAcc-bandsEnergy()-17,24\n",
      "fBodyAcc-bandsEnergy()-25,32\n",
      "fBodyAcc-bandsEnergy()-33,40\n",
      "fBodyAcc-bandsEnergy()-41,48\n",
      "fBodyAcc-bandsEnergy()-49,56\n",
      "fBodyAcc-bandsEnergy()-57,64\n",
      "fBodyAcc-bandsEnergy()-1,16\n",
      "fBodyAcc-bandsEnergy()-17,32\n",
      "fBodyAcc-bandsEnergy()-33,48\n",
      "fBodyAcc-bandsEnergy()-49,64\n",
      "fBodyAcc-bandsEnergy()-1,24\n",
      "fBodyAcc-bandsEnergy()-25,48\n",
      "fBodyAcc-bandsEnergy()-1,8\n",
      "fBodyAcc-bandsEnergy()-9,16\n",
      "fBodyAcc-bandsEnergy()-17,24\n",
      "fBodyAcc-bandsEnergy()-25,32\n",
      "fBodyAcc-bandsEnergy()-33,40\n",
      "fBodyAcc-bandsEnergy()-41,48\n",
      "fBodyAcc-bandsEnergy()-49,56\n",
      "fBodyAcc-bandsEnergy()-57,64\n",
      "fBodyAcc-bandsEnergy()-1,16\n",
      "fBodyAcc-bandsEnergy()-17,32\n",
      "fBodyAcc-bandsEnergy()-33,48\n",
      "fBodyAcc-bandsEnergy()-49,64\n",
      "fBodyAcc-bandsEnergy()-1,24\n",
      "fBodyAcc-bandsEnergy()-25,48\n",
      "fBodyAcc-bandsEnergy()-1,8\n",
      "fBodyAcc-bandsEnergy()-9,16\n",
      "fBodyAcc-bandsEnergy()-17,24\n",
      "fBodyAcc-bandsEnergy()-25,32\n",
      "fBodyAcc-bandsEnergy()-33,40\n",
      "fBodyAcc-bandsEnergy()-41,48\n",
      "fBodyAcc-bandsEnergy()-49,56\n",
      "fBodyAcc-bandsEnergy()-57,64\n",
      "fBodyAcc-bandsEnergy()-1,16\n",
      "fBodyAcc-bandsEnergy()-17,32\n",
      "fBodyAcc-bandsEnergy()-33,48\n",
      "fBodyAcc-bandsEnergy()-49,64\n",
      "fBodyAcc-bandsEnergy()-1,24\n",
      "fBodyAcc-bandsEnergy()-25,48\n",
      "fBodyAccJerk-bandsEnergy()-1,8\n",
      "fBodyAccJerk-bandsEnergy()-9,16\n",
      "fBodyAccJerk-bandsEnergy()-17,24\n",
      "fBodyAccJerk-bandsEnergy()-25,32\n",
      "fBodyAccJerk-bandsEnergy()-33,40\n",
      "fBodyAccJerk-bandsEnergy()-41,48\n",
      "fBodyAccJerk-bandsEnergy()-49,56\n",
      "fBodyAccJerk-bandsEnergy()-57,64\n",
      "fBodyAccJerk-bandsEnergy()-1,16\n",
      "fBodyAccJerk-bandsEnergy()-17,32\n",
      "fBodyAccJerk-bandsEnergy()-33,48\n",
      "fBodyAccJerk-bandsEnergy()-49,64\n",
      "fBodyAccJerk-bandsEnergy()-1,24\n",
      "fBodyAccJerk-bandsEnergy()-25,48\n",
      "fBodyAccJerk-bandsEnergy()-1,8\n",
      "fBodyAccJerk-bandsEnergy()-9,16\n",
      "fBodyAccJerk-bandsEnergy()-17,24\n",
      "fBodyAccJerk-bandsEnergy()-25,32\n",
      "fBodyAccJerk-bandsEnergy()-33,40\n",
      "fBodyAccJerk-bandsEnergy()-41,48\n",
      "fBodyAccJerk-bandsEnergy()-49,56\n",
      "fBodyAccJerk-bandsEnergy()-57,64\n",
      "fBodyAccJerk-bandsEnergy()-1,16\n",
      "fBodyAccJerk-bandsEnergy()-17,32\n",
      "fBodyAccJerk-bandsEnergy()-33,48\n",
      "fBodyAccJerk-bandsEnergy()-49,64\n",
      "fBodyAccJerk-bandsEnergy()-1,24\n",
      "fBodyAccJerk-bandsEnergy()-25,48\n",
      "fBodyAccJerk-bandsEnergy()-1,8\n",
      "fBodyAccJerk-bandsEnergy()-9,16\n",
      "fBodyAccJerk-bandsEnergy()-17,24\n",
      "fBodyAccJerk-bandsEnergy()-25,32\n",
      "fBodyAccJerk-bandsEnergy()-33,40\n",
      "fBodyAccJerk-bandsEnergy()-41,48\n",
      "fBodyAccJerk-bandsEnergy()-49,56\n",
      "fBodyAccJerk-bandsEnergy()-57,64\n",
      "fBodyAccJerk-bandsEnergy()-1,16\n",
      "fBodyAccJerk-bandsEnergy()-17,32\n",
      "fBodyAccJerk-bandsEnergy()-33,48\n",
      "fBodyAccJerk-bandsEnergy()-49,64\n",
      "fBodyAccJerk-bandsEnergy()-1,24\n",
      "fBodyAccJerk-bandsEnergy()-25,48\n",
      "fBodyGyro-bandsEnergy()-1,8\n",
      "fBodyGyro-bandsEnergy()-9,16\n",
      "fBodyGyro-bandsEnergy()-17,24\n",
      "fBodyGyro-bandsEnergy()-25,32\n",
      "fBodyGyro-bandsEnergy()-33,40\n",
      "fBodyGyro-bandsEnergy()-41,48\n",
      "fBodyGyro-bandsEnergy()-49,56\n",
      "fBodyGyro-bandsEnergy()-57,64\n",
      "fBodyGyro-bandsEnergy()-1,16\n",
      "fBodyGyro-bandsEnergy()-17,32\n",
      "fBodyGyro-bandsEnergy()-33,48\n",
      "fBodyGyro-bandsEnergy()-49,64\n",
      "fBodyGyro-bandsEnergy()-1,24\n",
      "fBodyGyro-bandsEnergy()-25,48\n",
      "fBodyGyro-bandsEnergy()-1,8\n",
      "fBodyGyro-bandsEnergy()-9,16\n",
      "fBodyGyro-bandsEnergy()-17,24\n",
      "fBodyGyro-bandsEnergy()-25,32\n",
      "fBodyGyro-bandsEnergy()-33,40\n",
      "fBodyGyro-bandsEnergy()-41,48\n",
      "fBodyGyro-bandsEnergy()-49,56\n",
      "fBodyGyro-bandsEnergy()-57,64\n",
      "fBodyGyro-bandsEnergy()-1,16\n",
      "fBodyGyro-bandsEnergy()-17,32\n",
      "fBodyGyro-bandsEnergy()-33,48\n",
      "fBodyGyro-bandsEnergy()-49,64\n",
      "fBodyGyro-bandsEnergy()-1,24\n",
      "fBodyGyro-bandsEnergy()-25,48\n",
      "fBodyGyro-bandsEnergy()-1,8\n",
      "fBodyGyro-bandsEnergy()-9,16\n",
      "fBodyGyro-bandsEnergy()-17,24\n",
      "fBodyGyro-bandsEnergy()-25,32\n",
      "fBodyGyro-bandsEnergy()-33,40\n",
      "fBodyGyro-bandsEnergy()-41,48\n",
      "fBodyGyro-bandsEnergy()-49,56\n",
      "fBodyGyro-bandsEnergy()-57,64\n",
      "fBodyGyro-bandsEnergy()-1,16\n",
      "fBodyGyro-bandsEnergy()-17,32\n",
      "fBodyGyro-bandsEnergy()-33,48\n",
      "fBodyGyro-bandsEnergy()-49,64\n",
      "fBodyGyro-bandsEnergy()-1,24\n",
      "fBodyGyro-bandsEnergy()-25,48\n",
      "83\n",
      "126\n"
     ]
    }
   ],
   "source": [
    "count = 0\n",
    "for feature in features:\n",
    "    if features.count(feature)>1:\n",
    "        print(feature)\n",
    "        count+=1\n",
    "\n",
    "print(561-478)\n",
    "print(count)"
   ]
  },
  {
   "cell_type": "code",
   "execution_count": 5,
   "metadata": {},
   "outputs": [
    {
     "name": "stdout",
     "output_type": "stream",
     "text": [
      "477\n"
     ]
    }
   ],
   "source": [
    "print(len(np.unique(features)))\n",
    "\n",
    "features = list(np.unique(features))"
   ]
  },
  {
   "cell_type": "markdown",
   "metadata": {},
   "source": [
    "## Obtain the  train data "
   ]
  },
  {
   "cell_type": "code",
   "execution_count": 6,
   "metadata": {},
   "outputs": [],
   "source": [
    "# get the data from txt files to pandas dataffame\n",
    "X_train = pd.read_csv('UCI_HAR_dataset/train/X_train.txt', delim_whitespace=True, header=None, names=features)\n",
    "\n",
    "\n",
    "# add subject column to the dataframe\n",
    "X_train['subject'] = pd.read_csv('UCI_HAR_dataset/train/subject_train.txt', header=None)\n",
    "\n",
    "# X_train = pd.read_csv('../input/uci-har/UCI HAR Dataset for Kaggle/UCI HAR Dataset for Kaggle/train/X_train.txt',delim_whitespace=True,header=None).to_numpy()\n",
    "# y_train = pd.read_csv('../input/uci-har/UCI HAR Dataset for Kaggle/UCI HAR Dataset for Kaggle/train/y_train.txt',delim_whitespace=True,header=None).to_numpy().reshape(-1)\n",
    "\n",
    "y_train = pd.read_csv('UCI_HAR_dataset/train/y_train.txt', names=['Activity'])\n",
    "\n",
    "y_train = y_train.squeeze()"
   ]
  },
  {
   "cell_type": "code",
   "execution_count": 7,
   "metadata": {},
   "outputs": [
    {
     "name": "stdout",
     "output_type": "stream",
     "text": [
      "<class 'pandas.core.series.Series'>\n",
      "(7352,)\n",
      "(7352, 478)\n"
     ]
    }
   ],
   "source": [
    "print(type(y_train))\n",
    "print(y_train.shape)\n",
    "\n",
    "print(X_train.shape)"
   ]
  },
  {
   "cell_type": "code",
   "execution_count": null,
   "metadata": {},
   "outputs": [],
   "source": []
  },
  {
   "cell_type": "code",
   "execution_count": 8,
   "metadata": {},
   "outputs": [
    {
     "data": {
      "text/html": [
       "<div>\n",
       "<style scoped>\n",
       "    .dataframe tbody tr th:only-of-type {\n",
       "        vertical-align: middle;\n",
       "    }\n",
       "\n",
       "    .dataframe tbody tr th {\n",
       "        vertical-align: top;\n",
       "    }\n",
       "\n",
       "    .dataframe thead th {\n",
       "        text-align: right;\n",
       "    }\n",
       "</style>\n",
       "<table border=\"1\" class=\"dataframe\">\n",
       "  <thead>\n",
       "    <tr style=\"text-align: right;\">\n",
       "      <th></th>\n",
       "      <th></th>\n",
       "      <th></th>\n",
       "      <th></th>\n",
       "      <th></th>\n",
       "      <th></th>\n",
       "      <th></th>\n",
       "      <th></th>\n",
       "      <th></th>\n",
       "      <th></th>\n",
       "      <th></th>\n",
       "      <th></th>\n",
       "      <th></th>\n",
       "      <th></th>\n",
       "      <th></th>\n",
       "      <th></th>\n",
       "      <th></th>\n",
       "      <th></th>\n",
       "      <th></th>\n",
       "      <th></th>\n",
       "      <th></th>\n",
       "      <th></th>\n",
       "      <th></th>\n",
       "      <th></th>\n",
       "      <th></th>\n",
       "      <th></th>\n",
       "      <th></th>\n",
       "      <th></th>\n",
       "      <th></th>\n",
       "      <th></th>\n",
       "      <th></th>\n",
       "      <th></th>\n",
       "      <th></th>\n",
       "      <th></th>\n",
       "      <th></th>\n",
       "      <th></th>\n",
       "      <th></th>\n",
       "      <th></th>\n",
       "      <th></th>\n",
       "      <th></th>\n",
       "      <th></th>\n",
       "      <th></th>\n",
       "      <th></th>\n",
       "      <th></th>\n",
       "      <th></th>\n",
       "      <th></th>\n",
       "      <th></th>\n",
       "      <th></th>\n",
       "      <th></th>\n",
       "      <th></th>\n",
       "      <th></th>\n",
       "      <th></th>\n",
       "      <th></th>\n",
       "      <th></th>\n",
       "      <th></th>\n",
       "      <th></th>\n",
       "      <th></th>\n",
       "      <th></th>\n",
       "      <th></th>\n",
       "      <th></th>\n",
       "      <th></th>\n",
       "      <th></th>\n",
       "      <th></th>\n",
       "      <th></th>\n",
       "      <th></th>\n",
       "      <th></th>\n",
       "      <th></th>\n",
       "      <th></th>\n",
       "      <th></th>\n",
       "      <th></th>\n",
       "      <th></th>\n",
       "      <th></th>\n",
       "      <th></th>\n",
       "      <th></th>\n",
       "      <th></th>\n",
       "      <th></th>\n",
       "      <th></th>\n",
       "      <th></th>\n",
       "      <th></th>\n",
       "      <th></th>\n",
       "      <th></th>\n",
       "      <th></th>\n",
       "      <th></th>\n",
       "      <th></th>\n",
       "      <th>angle(X,gravityMean)</th>\n",
       "      <th>angle(Y,gravityMean)</th>\n",
       "      <th>angle(Z,gravityMean)</th>\n",
       "      <th>angle(tBodyAccJerkMean),gravityMean)</th>\n",
       "      <th>angle(tBodyAccMean,gravity)</th>\n",
       "      <th>angle(tBodyGyroJerkMean,gravityMean)</th>\n",
       "      <th>angle(tBodyGyroMean,gravityMean)</th>\n",
       "      <th>fBodyAcc-bandsEnergy()-1,16</th>\n",
       "      <th>fBodyAcc-bandsEnergy()-1,24</th>\n",
       "      <th>fBodyAcc-bandsEnergy()-1,8</th>\n",
       "      <th>...</th>\n",
       "      <th>tGravityAccMag-iqr()</th>\n",
       "      <th>tGravityAccMag-mad()</th>\n",
       "      <th>tGravityAccMag-max()</th>\n",
       "      <th>tGravityAccMag-mean()</th>\n",
       "      <th>tGravityAccMag-min()</th>\n",
       "      <th>tGravityAccMag-sma()</th>\n",
       "      <th>tGravityAccMag-std()</th>\n",
       "      <th>subject</th>\n",
       "      <th>Activity</th>\n",
       "      <th>ActivityName</th>\n",
       "    </tr>\n",
       "  </thead>\n",
       "  <tbody>\n",
       "    <tr>\n",
       "      <th>0.244398</th>\n",
       "      <th>-0.045213</th>\n",
       "      <th>-0.087527</th>\n",
       "      <th>0.105625</th>\n",
       "      <th>-0.171022</th>\n",
       "      <th>-0.356467</th>\n",
       "      <th>0.018901</th>\n",
       "      <th>-0.192928</th>\n",
       "      <th>-0.344155</th>\n",
       "      <th>0.490167</th>\n",
       "      <th>-0.2265</th>\n",
       "      <th>-0.327522</th>\n",
       "      <th>0.131661</th>\n",
       "      <th>0.148845</th>\n",
       "      <th>0.485534</th>\n",
       "      <th>-0.019482</th>\n",
       "      <th>-0.388074</th>\n",
       "      <th>-0.865098</th>\n",
       "      <th>-0.810423</th>\n",
       "      <th>-0.20252</th>\n",
       "      <th>-0.428735</th>\n",
       "      <th>-0.358192</th>\n",
       "      <th>0.110811</th>\n",
       "      <th>0.200872</th>\n",
       "      <th>0.243802</th>\n",
       "      <th>-0.225931</th>\n",
       "      <th>0.040796</th>\n",
       "      <th>0.040127</th>\n",
       "      <th>0.253407</th>\n",
       "      <th>-0.365067</th>\n",
       "      <th>0.381042</th>\n",
       "      <th>-0.17195</th>\n",
       "      <th>0.23574</th>\n",
       "      <th>-0.01036</th>\n",
       "      <th>-0.038087</th>\n",
       "      <th>0.239447</th>\n",
       "      <th>-0.209845</th>\n",
       "      <th>-0.609382</th>\n",
       "      <th>0.059501</th>\n",
       "      <th>0.057134</th>\n",
       "      <th>0.942444</th>\n",
       "      <th>-0.149285</th>\n",
       "      <th>0.10847</th>\n",
       "      <th>-0.956316</th>\n",
       "      <th>-0.899035</th>\n",
       "      <th>-0.946235</th>\n",
       "      <th>-0.960062</th>\n",
       "      <th>-0.896157</th>\n",
       "      <th>-0.950212</th>\n",
       "      <th>0.892164</th>\n",
       "      <th>-0.146991</th>\n",
       "      <th>0.111429</th>\n",
       "      <th>0.952787</th>\n",
       "      <th>-0.146158</th>\n",
       "      <th>0.093634</th>\n",
       "      <th>-0.411232</th>\n",
       "      <th>0.8446</th>\n",
       "      <th>-0.966086</th>\n",
       "      <th>-0.978951</th>\n",
       "      <th>-0.969828</th>\n",
       "      <th>-0.885183</th>\n",
       "      <th>-0.959659</th>\n",
       "      <th>-0.701717</th>\n",
       "      <th>-1.0</th>\n",
       "      <th>-0.100805</th>\n",
       "      <th>-0.626146</th>\n",
       "      <th>0.692095</th>\n",
       "      <th>-0.757394</th>\n",
       "      <th>0.822047</th>\n",
       "      <th>-0.49342</th>\n",
       "      <th>0.479989</th>\n",
       "      <th>-0.500744</th>\n",
       "      <th>0.535549</th>\n",
       "      <th>-0.411118</th>\n",
       "      <th>0.428559</th>\n",
       "      <th>-0.444876</th>\n",
       "      <th>0.4575</th>\n",
       "      <th>-0.805769</th>\n",
       "      <th>-0.406445</th>\n",
       "      <th>0.579753</th>\n",
       "      <th>-0.273798</th>\n",
       "      <th>0.192374</th>\n",
       "      <th>-0.276978</th>\n",
       "      <th>-0.074904</th>\n",
       "      <td>-0.318043</td>\n",
       "      <td>-0.604562</td>\n",
       "      <td>-0.083786</td>\n",
       "      <td>-0.303902</td>\n",
       "      <td>-0.579035</td>\n",
       "      <td>-0.224558</td>\n",
       "      <td>-0.667887</td>\n",
       "      <td>-0.625156</td>\n",
       "      <td>0.104537</td>\n",
       "      <td>0.394146</td>\n",
       "      <td>...</td>\n",
       "      <td>0.159243</td>\n",
       "      <td>0.775797</td>\n",
       "      <td>0.870127</td>\n",
       "      <td>-0.741378</td>\n",
       "      <td>-0.836731</td>\n",
       "      <td>0.18699</td>\n",
       "      <td>-0.05481</td>\n",
       "      <td>NaN</td>\n",
       "      <td>NaN</td>\n",
       "      <td>NaN</td>\n",
       "    </tr>\n",
       "  </tbody>\n",
       "</table>\n",
       "<p>1 rows × 480 columns</p>\n",
       "</div>"
      ],
      "text/plain": [
       "                                                                                                                                                                                                                                                                                                                                                                                                                                                                                                                                                                                                                                                                                                                                                                                                                       angle(X,gravityMean)  \\\n",
       "0.244398 -0.045213 -0.087527 0.105625 -0.171022 -0.356467 0.018901 -0.192928 -0.344155 0.490167 -0.2265 -0.327522 0.131661 0.148845 0.485534 -0.019482 -0.388074 -0.865098 -0.810423 -0.20252 -0.428735 -0.358192 0.110811 0.200872 0.243802 -0.225931 0.040796 0.040127 0.253407 -0.365067 0.381042 -0.17195 0.23574 -0.01036 -0.038087 0.239447 -0.209845 -0.609382 0.059501 0.057134 0.942444 -0.149285 0.10847 -0.956316 -0.899035 -0.946235 -0.960062 -0.896157 -0.950212 0.892164 -0.146991 0.111429 0.952787 -0.146158 0.093634 -0.411232 0.8446 -0.966086 -0.978951 -0.969828 -0.885183 -0.959659 -0.701717 -1.0 -0.100805 -0.626146 0.692095 -0.757394 0.822047 -0.49342 0.479989 -0.500744 0.535549 -0.411118 0.428559 -0.444876 0.4575 -0.805769 -0.406445 0.579753 -0.273798 0.192374 -0.276978 -0.074904             -0.318043   \n",
       "\n",
       "                                                                                                                                                                                                                                                                                                                                                                                                                                                                                                                                                                                                                                                                                                                                                                                                                       angle(Y,gravityMean)  \\\n",
       "0.244398 -0.045213 -0.087527 0.105625 -0.171022 -0.356467 0.018901 -0.192928 -0.344155 0.490167 -0.2265 -0.327522 0.131661 0.148845 0.485534 -0.019482 -0.388074 -0.865098 -0.810423 -0.20252 -0.428735 -0.358192 0.110811 0.200872 0.243802 -0.225931 0.040796 0.040127 0.253407 -0.365067 0.381042 -0.17195 0.23574 -0.01036 -0.038087 0.239447 -0.209845 -0.609382 0.059501 0.057134 0.942444 -0.149285 0.10847 -0.956316 -0.899035 -0.946235 -0.960062 -0.896157 -0.950212 0.892164 -0.146991 0.111429 0.952787 -0.146158 0.093634 -0.411232 0.8446 -0.966086 -0.978951 -0.969828 -0.885183 -0.959659 -0.701717 -1.0 -0.100805 -0.626146 0.692095 -0.757394 0.822047 -0.49342 0.479989 -0.500744 0.535549 -0.411118 0.428559 -0.444876 0.4575 -0.805769 -0.406445 0.579753 -0.273798 0.192374 -0.276978 -0.074904             -0.604562   \n",
       "\n",
       "                                                                                                                                                                                                                                                                                                                                                                                                                                                                                                                                                                                                                                                                                                                                                                                                                       angle(Z,gravityMean)  \\\n",
       "0.244398 -0.045213 -0.087527 0.105625 -0.171022 -0.356467 0.018901 -0.192928 -0.344155 0.490167 -0.2265 -0.327522 0.131661 0.148845 0.485534 -0.019482 -0.388074 -0.865098 -0.810423 -0.20252 -0.428735 -0.358192 0.110811 0.200872 0.243802 -0.225931 0.040796 0.040127 0.253407 -0.365067 0.381042 -0.17195 0.23574 -0.01036 -0.038087 0.239447 -0.209845 -0.609382 0.059501 0.057134 0.942444 -0.149285 0.10847 -0.956316 -0.899035 -0.946235 -0.960062 -0.896157 -0.950212 0.892164 -0.146991 0.111429 0.952787 -0.146158 0.093634 -0.411232 0.8446 -0.966086 -0.978951 -0.969828 -0.885183 -0.959659 -0.701717 -1.0 -0.100805 -0.626146 0.692095 -0.757394 0.822047 -0.49342 0.479989 -0.500744 0.535549 -0.411118 0.428559 -0.444876 0.4575 -0.805769 -0.406445 0.579753 -0.273798 0.192374 -0.276978 -0.074904             -0.083786   \n",
       "\n",
       "                                                                                                                                                                                                                                                                                                                                                                                                                                                                                                                                                                                                                                                                                                                                                                                                                       angle(tBodyAccJerkMean),gravityMean)  \\\n",
       "0.244398 -0.045213 -0.087527 0.105625 -0.171022 -0.356467 0.018901 -0.192928 -0.344155 0.490167 -0.2265 -0.327522 0.131661 0.148845 0.485534 -0.019482 -0.388074 -0.865098 -0.810423 -0.20252 -0.428735 -0.358192 0.110811 0.200872 0.243802 -0.225931 0.040796 0.040127 0.253407 -0.365067 0.381042 -0.17195 0.23574 -0.01036 -0.038087 0.239447 -0.209845 -0.609382 0.059501 0.057134 0.942444 -0.149285 0.10847 -0.956316 -0.899035 -0.946235 -0.960062 -0.896157 -0.950212 0.892164 -0.146991 0.111429 0.952787 -0.146158 0.093634 -0.411232 0.8446 -0.966086 -0.978951 -0.969828 -0.885183 -0.959659 -0.701717 -1.0 -0.100805 -0.626146 0.692095 -0.757394 0.822047 -0.49342 0.479989 -0.500744 0.535549 -0.411118 0.428559 -0.444876 0.4575 -0.805769 -0.406445 0.579753 -0.273798 0.192374 -0.276978 -0.074904                             -0.303902   \n",
       "\n",
       "                                                                                                                                                                                                                                                                                                                                                                                                                                                                                                                                                                                                                                                                                                                                                                                                                       angle(tBodyAccMean,gravity)  \\\n",
       "0.244398 -0.045213 -0.087527 0.105625 -0.171022 -0.356467 0.018901 -0.192928 -0.344155 0.490167 -0.2265 -0.327522 0.131661 0.148845 0.485534 -0.019482 -0.388074 -0.865098 -0.810423 -0.20252 -0.428735 -0.358192 0.110811 0.200872 0.243802 -0.225931 0.040796 0.040127 0.253407 -0.365067 0.381042 -0.17195 0.23574 -0.01036 -0.038087 0.239447 -0.209845 -0.609382 0.059501 0.057134 0.942444 -0.149285 0.10847 -0.956316 -0.899035 -0.946235 -0.960062 -0.896157 -0.950212 0.892164 -0.146991 0.111429 0.952787 -0.146158 0.093634 -0.411232 0.8446 -0.966086 -0.978951 -0.969828 -0.885183 -0.959659 -0.701717 -1.0 -0.100805 -0.626146 0.692095 -0.757394 0.822047 -0.49342 0.479989 -0.500744 0.535549 -0.411118 0.428559 -0.444876 0.4575 -0.805769 -0.406445 0.579753 -0.273798 0.192374 -0.276978 -0.074904                    -0.579035   \n",
       "\n",
       "                                                                                                                                                                                                                                                                                                                                                                                                                                                                                                                                                                                                                                                                                                                                                                                                                       angle(tBodyGyroJerkMean,gravityMean)  \\\n",
       "0.244398 -0.045213 -0.087527 0.105625 -0.171022 -0.356467 0.018901 -0.192928 -0.344155 0.490167 -0.2265 -0.327522 0.131661 0.148845 0.485534 -0.019482 -0.388074 -0.865098 -0.810423 -0.20252 -0.428735 -0.358192 0.110811 0.200872 0.243802 -0.225931 0.040796 0.040127 0.253407 -0.365067 0.381042 -0.17195 0.23574 -0.01036 -0.038087 0.239447 -0.209845 -0.609382 0.059501 0.057134 0.942444 -0.149285 0.10847 -0.956316 -0.899035 -0.946235 -0.960062 -0.896157 -0.950212 0.892164 -0.146991 0.111429 0.952787 -0.146158 0.093634 -0.411232 0.8446 -0.966086 -0.978951 -0.969828 -0.885183 -0.959659 -0.701717 -1.0 -0.100805 -0.626146 0.692095 -0.757394 0.822047 -0.49342 0.479989 -0.500744 0.535549 -0.411118 0.428559 -0.444876 0.4575 -0.805769 -0.406445 0.579753 -0.273798 0.192374 -0.276978 -0.074904                             -0.224558   \n",
       "\n",
       "                                                                                                                                                                                                                                                                                                                                                                                                                                                                                                                                                                                                                                                                                                                                                                                                                       angle(tBodyGyroMean,gravityMean)  \\\n",
       "0.244398 -0.045213 -0.087527 0.105625 -0.171022 -0.356467 0.018901 -0.192928 -0.344155 0.490167 -0.2265 -0.327522 0.131661 0.148845 0.485534 -0.019482 -0.388074 -0.865098 -0.810423 -0.20252 -0.428735 -0.358192 0.110811 0.200872 0.243802 -0.225931 0.040796 0.040127 0.253407 -0.365067 0.381042 -0.17195 0.23574 -0.01036 -0.038087 0.239447 -0.209845 -0.609382 0.059501 0.057134 0.942444 -0.149285 0.10847 -0.956316 -0.899035 -0.946235 -0.960062 -0.896157 -0.950212 0.892164 -0.146991 0.111429 0.952787 -0.146158 0.093634 -0.411232 0.8446 -0.966086 -0.978951 -0.969828 -0.885183 -0.959659 -0.701717 -1.0 -0.100805 -0.626146 0.692095 -0.757394 0.822047 -0.49342 0.479989 -0.500744 0.535549 -0.411118 0.428559 -0.444876 0.4575 -0.805769 -0.406445 0.579753 -0.273798 0.192374 -0.276978 -0.074904                         -0.667887   \n",
       "\n",
       "                                                                                                                                                                                                                                                                                                                                                                                                                                                                                                                                                                                                                                                                                                                                                                                                                       fBodyAcc-bandsEnergy()-1,16  \\\n",
       "0.244398 -0.045213 -0.087527 0.105625 -0.171022 -0.356467 0.018901 -0.192928 -0.344155 0.490167 -0.2265 -0.327522 0.131661 0.148845 0.485534 -0.019482 -0.388074 -0.865098 -0.810423 -0.20252 -0.428735 -0.358192 0.110811 0.200872 0.243802 -0.225931 0.040796 0.040127 0.253407 -0.365067 0.381042 -0.17195 0.23574 -0.01036 -0.038087 0.239447 -0.209845 -0.609382 0.059501 0.057134 0.942444 -0.149285 0.10847 -0.956316 -0.899035 -0.946235 -0.960062 -0.896157 -0.950212 0.892164 -0.146991 0.111429 0.952787 -0.146158 0.093634 -0.411232 0.8446 -0.966086 -0.978951 -0.969828 -0.885183 -0.959659 -0.701717 -1.0 -0.100805 -0.626146 0.692095 -0.757394 0.822047 -0.49342 0.479989 -0.500744 0.535549 -0.411118 0.428559 -0.444876 0.4575 -0.805769 -0.406445 0.579753 -0.273798 0.192374 -0.276978 -0.074904                    -0.625156   \n",
       "\n",
       "                                                                                                                                                                                                                                                                                                                                                                                                                                                                                                                                                                                                                                                                                                                                                                                                                       fBodyAcc-bandsEnergy()-1,24  \\\n",
       "0.244398 -0.045213 -0.087527 0.105625 -0.171022 -0.356467 0.018901 -0.192928 -0.344155 0.490167 -0.2265 -0.327522 0.131661 0.148845 0.485534 -0.019482 -0.388074 -0.865098 -0.810423 -0.20252 -0.428735 -0.358192 0.110811 0.200872 0.243802 -0.225931 0.040796 0.040127 0.253407 -0.365067 0.381042 -0.17195 0.23574 -0.01036 -0.038087 0.239447 -0.209845 -0.609382 0.059501 0.057134 0.942444 -0.149285 0.10847 -0.956316 -0.899035 -0.946235 -0.960062 -0.896157 -0.950212 0.892164 -0.146991 0.111429 0.952787 -0.146158 0.093634 -0.411232 0.8446 -0.966086 -0.978951 -0.969828 -0.885183 -0.959659 -0.701717 -1.0 -0.100805 -0.626146 0.692095 -0.757394 0.822047 -0.49342 0.479989 -0.500744 0.535549 -0.411118 0.428559 -0.444876 0.4575 -0.805769 -0.406445 0.579753 -0.273798 0.192374 -0.276978 -0.074904                     0.104537   \n",
       "\n",
       "                                                                                                                                                                                                                                                                                                                                                                                                                                                                                                                                                                                                                                                                                                                                                                                                                       fBodyAcc-bandsEnergy()-1,8  \\\n",
       "0.244398 -0.045213 -0.087527 0.105625 -0.171022 -0.356467 0.018901 -0.192928 -0.344155 0.490167 -0.2265 -0.327522 0.131661 0.148845 0.485534 -0.019482 -0.388074 -0.865098 -0.810423 -0.20252 -0.428735 -0.358192 0.110811 0.200872 0.243802 -0.225931 0.040796 0.040127 0.253407 -0.365067 0.381042 -0.17195 0.23574 -0.01036 -0.038087 0.239447 -0.209845 -0.609382 0.059501 0.057134 0.942444 -0.149285 0.10847 -0.956316 -0.899035 -0.946235 -0.960062 -0.896157 -0.950212 0.892164 -0.146991 0.111429 0.952787 -0.146158 0.093634 -0.411232 0.8446 -0.966086 -0.978951 -0.969828 -0.885183 -0.959659 -0.701717 -1.0 -0.100805 -0.626146 0.692095 -0.757394 0.822047 -0.49342 0.479989 -0.500744 0.535549 -0.411118 0.428559 -0.444876 0.4575 -0.805769 -0.406445 0.579753 -0.273798 0.192374 -0.276978 -0.074904                    0.394146   \n",
       "\n",
       "                                                                                                                                                                                                                                                                                                                                                                                                                                                                                                                                                                                                                                                                                                                                                                                                                       ...  \\\n",
       "0.244398 -0.045213 -0.087527 0.105625 -0.171022 -0.356467 0.018901 -0.192928 -0.344155 0.490167 -0.2265 -0.327522 0.131661 0.148845 0.485534 -0.019482 -0.388074 -0.865098 -0.810423 -0.20252 -0.428735 -0.358192 0.110811 0.200872 0.243802 -0.225931 0.040796 0.040127 0.253407 -0.365067 0.381042 -0.17195 0.23574 -0.01036 -0.038087 0.239447 -0.209845 -0.609382 0.059501 0.057134 0.942444 -0.149285 0.10847 -0.956316 -0.899035 -0.946235 -0.960062 -0.896157 -0.950212 0.892164 -0.146991 0.111429 0.952787 -0.146158 0.093634 -0.411232 0.8446 -0.966086 -0.978951 -0.969828 -0.885183 -0.959659 -0.701717 -1.0 -0.100805 -0.626146 0.692095 -0.757394 0.822047 -0.49342 0.479989 -0.500744 0.535549 -0.411118 0.428559 -0.444876 0.4575 -0.805769 -0.406445 0.579753 -0.273798 0.192374 -0.276978 -0.074904  ...   \n",
       "\n",
       "                                                                                                                                                                                                                                                                                                                                                                                                                                                                                                                                                                                                                                                                                                                                                                                                                       tGravityAccMag-iqr()  \\\n",
       "0.244398 -0.045213 -0.087527 0.105625 -0.171022 -0.356467 0.018901 -0.192928 -0.344155 0.490167 -0.2265 -0.327522 0.131661 0.148845 0.485534 -0.019482 -0.388074 -0.865098 -0.810423 -0.20252 -0.428735 -0.358192 0.110811 0.200872 0.243802 -0.225931 0.040796 0.040127 0.253407 -0.365067 0.381042 -0.17195 0.23574 -0.01036 -0.038087 0.239447 -0.209845 -0.609382 0.059501 0.057134 0.942444 -0.149285 0.10847 -0.956316 -0.899035 -0.946235 -0.960062 -0.896157 -0.950212 0.892164 -0.146991 0.111429 0.952787 -0.146158 0.093634 -0.411232 0.8446 -0.966086 -0.978951 -0.969828 -0.885183 -0.959659 -0.701717 -1.0 -0.100805 -0.626146 0.692095 -0.757394 0.822047 -0.49342 0.479989 -0.500744 0.535549 -0.411118 0.428559 -0.444876 0.4575 -0.805769 -0.406445 0.579753 -0.273798 0.192374 -0.276978 -0.074904              0.159243   \n",
       "\n",
       "                                                                                                                                                                                                                                                                                                                                                                                                                                                                                                                                                                                                                                                                                                                                                                                                                       tGravityAccMag-mad()  \\\n",
       "0.244398 -0.045213 -0.087527 0.105625 -0.171022 -0.356467 0.018901 -0.192928 -0.344155 0.490167 -0.2265 -0.327522 0.131661 0.148845 0.485534 -0.019482 -0.388074 -0.865098 -0.810423 -0.20252 -0.428735 -0.358192 0.110811 0.200872 0.243802 -0.225931 0.040796 0.040127 0.253407 -0.365067 0.381042 -0.17195 0.23574 -0.01036 -0.038087 0.239447 -0.209845 -0.609382 0.059501 0.057134 0.942444 -0.149285 0.10847 -0.956316 -0.899035 -0.946235 -0.960062 -0.896157 -0.950212 0.892164 -0.146991 0.111429 0.952787 -0.146158 0.093634 -0.411232 0.8446 -0.966086 -0.978951 -0.969828 -0.885183 -0.959659 -0.701717 -1.0 -0.100805 -0.626146 0.692095 -0.757394 0.822047 -0.49342 0.479989 -0.500744 0.535549 -0.411118 0.428559 -0.444876 0.4575 -0.805769 -0.406445 0.579753 -0.273798 0.192374 -0.276978 -0.074904              0.775797   \n",
       "\n",
       "                                                                                                                                                                                                                                                                                                                                                                                                                                                                                                                                                                                                                                                                                                                                                                                                                       tGravityAccMag-max()  \\\n",
       "0.244398 -0.045213 -0.087527 0.105625 -0.171022 -0.356467 0.018901 -0.192928 -0.344155 0.490167 -0.2265 -0.327522 0.131661 0.148845 0.485534 -0.019482 -0.388074 -0.865098 -0.810423 -0.20252 -0.428735 -0.358192 0.110811 0.200872 0.243802 -0.225931 0.040796 0.040127 0.253407 -0.365067 0.381042 -0.17195 0.23574 -0.01036 -0.038087 0.239447 -0.209845 -0.609382 0.059501 0.057134 0.942444 -0.149285 0.10847 -0.956316 -0.899035 -0.946235 -0.960062 -0.896157 -0.950212 0.892164 -0.146991 0.111429 0.952787 -0.146158 0.093634 -0.411232 0.8446 -0.966086 -0.978951 -0.969828 -0.885183 -0.959659 -0.701717 -1.0 -0.100805 -0.626146 0.692095 -0.757394 0.822047 -0.49342 0.479989 -0.500744 0.535549 -0.411118 0.428559 -0.444876 0.4575 -0.805769 -0.406445 0.579753 -0.273798 0.192374 -0.276978 -0.074904              0.870127   \n",
       "\n",
       "                                                                                                                                                                                                                                                                                                                                                                                                                                                                                                                                                                                                                                                                                                                                                                                                                       tGravityAccMag-mean()  \\\n",
       "0.244398 -0.045213 -0.087527 0.105625 -0.171022 -0.356467 0.018901 -0.192928 -0.344155 0.490167 -0.2265 -0.327522 0.131661 0.148845 0.485534 -0.019482 -0.388074 -0.865098 -0.810423 -0.20252 -0.428735 -0.358192 0.110811 0.200872 0.243802 -0.225931 0.040796 0.040127 0.253407 -0.365067 0.381042 -0.17195 0.23574 -0.01036 -0.038087 0.239447 -0.209845 -0.609382 0.059501 0.057134 0.942444 -0.149285 0.10847 -0.956316 -0.899035 -0.946235 -0.960062 -0.896157 -0.950212 0.892164 -0.146991 0.111429 0.952787 -0.146158 0.093634 -0.411232 0.8446 -0.966086 -0.978951 -0.969828 -0.885183 -0.959659 -0.701717 -1.0 -0.100805 -0.626146 0.692095 -0.757394 0.822047 -0.49342 0.479989 -0.500744 0.535549 -0.411118 0.428559 -0.444876 0.4575 -0.805769 -0.406445 0.579753 -0.273798 0.192374 -0.276978 -0.074904              -0.741378   \n",
       "\n",
       "                                                                                                                                                                                                                                                                                                                                                                                                                                                                                                                                                                                                                                                                                                                                                                                                                       tGravityAccMag-min()  \\\n",
       "0.244398 -0.045213 -0.087527 0.105625 -0.171022 -0.356467 0.018901 -0.192928 -0.344155 0.490167 -0.2265 -0.327522 0.131661 0.148845 0.485534 -0.019482 -0.388074 -0.865098 -0.810423 -0.20252 -0.428735 -0.358192 0.110811 0.200872 0.243802 -0.225931 0.040796 0.040127 0.253407 -0.365067 0.381042 -0.17195 0.23574 -0.01036 -0.038087 0.239447 -0.209845 -0.609382 0.059501 0.057134 0.942444 -0.149285 0.10847 -0.956316 -0.899035 -0.946235 -0.960062 -0.896157 -0.950212 0.892164 -0.146991 0.111429 0.952787 -0.146158 0.093634 -0.411232 0.8446 -0.966086 -0.978951 -0.969828 -0.885183 -0.959659 -0.701717 -1.0 -0.100805 -0.626146 0.692095 -0.757394 0.822047 -0.49342 0.479989 -0.500744 0.535549 -0.411118 0.428559 -0.444876 0.4575 -0.805769 -0.406445 0.579753 -0.273798 0.192374 -0.276978 -0.074904             -0.836731   \n",
       "\n",
       "                                                                                                                                                                                                                                                                                                                                                                                                                                                                                                                                                                                                                                                                                                                                                                                                                       tGravityAccMag-sma()  \\\n",
       "0.244398 -0.045213 -0.087527 0.105625 -0.171022 -0.356467 0.018901 -0.192928 -0.344155 0.490167 -0.2265 -0.327522 0.131661 0.148845 0.485534 -0.019482 -0.388074 -0.865098 -0.810423 -0.20252 -0.428735 -0.358192 0.110811 0.200872 0.243802 -0.225931 0.040796 0.040127 0.253407 -0.365067 0.381042 -0.17195 0.23574 -0.01036 -0.038087 0.239447 -0.209845 -0.609382 0.059501 0.057134 0.942444 -0.149285 0.10847 -0.956316 -0.899035 -0.946235 -0.960062 -0.896157 -0.950212 0.892164 -0.146991 0.111429 0.952787 -0.146158 0.093634 -0.411232 0.8446 -0.966086 -0.978951 -0.969828 -0.885183 -0.959659 -0.701717 -1.0 -0.100805 -0.626146 0.692095 -0.757394 0.822047 -0.49342 0.479989 -0.500744 0.535549 -0.411118 0.428559 -0.444876 0.4575 -0.805769 -0.406445 0.579753 -0.273798 0.192374 -0.276978 -0.074904               0.18699   \n",
       "\n",
       "                                                                                                                                                                                                                                                                                                                                                                                                                                                                                                                                                                                                                                                                                                                                                                                                                       tGravityAccMag-std()  \\\n",
       "0.244398 -0.045213 -0.087527 0.105625 -0.171022 -0.356467 0.018901 -0.192928 -0.344155 0.490167 -0.2265 -0.327522 0.131661 0.148845 0.485534 -0.019482 -0.388074 -0.865098 -0.810423 -0.20252 -0.428735 -0.358192 0.110811 0.200872 0.243802 -0.225931 0.040796 0.040127 0.253407 -0.365067 0.381042 -0.17195 0.23574 -0.01036 -0.038087 0.239447 -0.209845 -0.609382 0.059501 0.057134 0.942444 -0.149285 0.10847 -0.956316 -0.899035 -0.946235 -0.960062 -0.896157 -0.950212 0.892164 -0.146991 0.111429 0.952787 -0.146158 0.093634 -0.411232 0.8446 -0.966086 -0.978951 -0.969828 -0.885183 -0.959659 -0.701717 -1.0 -0.100805 -0.626146 0.692095 -0.757394 0.822047 -0.49342 0.479989 -0.500744 0.535549 -0.411118 0.428559 -0.444876 0.4575 -0.805769 -0.406445 0.579753 -0.273798 0.192374 -0.276978 -0.074904              -0.05481   \n",
       "\n",
       "                                                                                                                                                                                                                                                                                                                                                                                                                                                                                                                                                                                                                                                                                                                                                                                                                       subject  \\\n",
       "0.244398 -0.045213 -0.087527 0.105625 -0.171022 -0.356467 0.018901 -0.192928 -0.344155 0.490167 -0.2265 -0.327522 0.131661 0.148845 0.485534 -0.019482 -0.388074 -0.865098 -0.810423 -0.20252 -0.428735 -0.358192 0.110811 0.200872 0.243802 -0.225931 0.040796 0.040127 0.253407 -0.365067 0.381042 -0.17195 0.23574 -0.01036 -0.038087 0.239447 -0.209845 -0.609382 0.059501 0.057134 0.942444 -0.149285 0.10847 -0.956316 -0.899035 -0.946235 -0.960062 -0.896157 -0.950212 0.892164 -0.146991 0.111429 0.952787 -0.146158 0.093634 -0.411232 0.8446 -0.966086 -0.978951 -0.969828 -0.885183 -0.959659 -0.701717 -1.0 -0.100805 -0.626146 0.692095 -0.757394 0.822047 -0.49342 0.479989 -0.500744 0.535549 -0.411118 0.428559 -0.444876 0.4575 -0.805769 -0.406445 0.579753 -0.273798 0.192374 -0.276978 -0.074904      NaN   \n",
       "\n",
       "                                                                                                                                                                                                                                                                                                                                                                                                                                                                                                                                                                                                                                                                                                                                                                                                                       Activity  \\\n",
       "0.244398 -0.045213 -0.087527 0.105625 -0.171022 -0.356467 0.018901 -0.192928 -0.344155 0.490167 -0.2265 -0.327522 0.131661 0.148845 0.485534 -0.019482 -0.388074 -0.865098 -0.810423 -0.20252 -0.428735 -0.358192 0.110811 0.200872 0.243802 -0.225931 0.040796 0.040127 0.253407 -0.365067 0.381042 -0.17195 0.23574 -0.01036 -0.038087 0.239447 -0.209845 -0.609382 0.059501 0.057134 0.942444 -0.149285 0.10847 -0.956316 -0.899035 -0.946235 -0.960062 -0.896157 -0.950212 0.892164 -0.146991 0.111429 0.952787 -0.146158 0.093634 -0.411232 0.8446 -0.966086 -0.978951 -0.969828 -0.885183 -0.959659 -0.701717 -1.0 -0.100805 -0.626146 0.692095 -0.757394 0.822047 -0.49342 0.479989 -0.500744 0.535549 -0.411118 0.428559 -0.444876 0.4575 -0.805769 -0.406445 0.579753 -0.273798 0.192374 -0.276978 -0.074904       NaN   \n",
       "\n",
       "                                                                                                                                                                                                                                                                                                                                                                                                                                                                                                                                                                                                                                                                                                                                                                                                                       ActivityName  \n",
       "0.244398 -0.045213 -0.087527 0.105625 -0.171022 -0.356467 0.018901 -0.192928 -0.344155 0.490167 -0.2265 -0.327522 0.131661 0.148845 0.485534 -0.019482 -0.388074 -0.865098 -0.810423 -0.20252 -0.428735 -0.358192 0.110811 0.200872 0.243802 -0.225931 0.040796 0.040127 0.253407 -0.365067 0.381042 -0.17195 0.23574 -0.01036 -0.038087 0.239447 -0.209845 -0.609382 0.059501 0.057134 0.942444 -0.149285 0.10847 -0.956316 -0.899035 -0.946235 -0.960062 -0.896157 -0.950212 0.892164 -0.146991 0.111429 0.952787 -0.146158 0.093634 -0.411232 0.8446 -0.966086 -0.978951 -0.969828 -0.885183 -0.959659 -0.701717 -1.0 -0.100805 -0.626146 0.692095 -0.757394 0.822047 -0.49342 0.479989 -0.500744 0.535549 -0.411118 0.428559 -0.444876 0.4575 -0.805769 -0.406445 0.579753 -0.273798 0.192374 -0.276978 -0.074904           NaN  \n",
       "\n",
       "[1 rows x 480 columns]"
      ]
     },
     "execution_count": 8,
     "metadata": {},
     "output_type": "execute_result"
    }
   ],
   "source": [
    "\n",
    "# y_train_labels = y_train.map({1: 'WALKING', 2:'WALKING_UPSTAIRS',3:'WALKING_DOWNSTAIRS',\\\n",
    "#                        4:'SITTING', 5:'STANDING',6:'LAYING'})\n",
    "\n",
    "class_mapping = {1: 'WALKING', 2: 'WALKING_UPSTAIRS', 3: 'WALKING_DOWNSTAIRS',\n",
    "                 4: 'SITTING', 5: 'STANDING', 6: 'LAYING'}\n",
    "\n",
    "y_train_labels = y_train.map(class_mapping)\n",
    "\n",
    "# put all columns in a single dataframe\n",
    "train = X_train\n",
    "train['Activity'] = y_train\n",
    "train['ActivityName'] = y_train_labels\n",
    "train.sample()"
   ]
  },
  {
   "cell_type": "code",
   "execution_count": 9,
   "metadata": {
    "scrolled": true
   },
   "outputs": [
    {
     "data": {
      "text/plain": [
       "(7352, 480)"
      ]
     },
     "execution_count": 9,
     "metadata": {},
     "output_type": "execute_result"
    }
   ],
   "source": [
    "train.shape"
   ]
  },
  {
   "cell_type": "markdown",
   "metadata": {},
   "source": [
    "## Obtain the  test data "
   ]
  },
  {
   "cell_type": "code",
   "execution_count": 10,
   "metadata": {},
   "outputs": [
    {
     "data": {
      "text/html": [
       "<div>\n",
       "<style scoped>\n",
       "    .dataframe tbody tr th:only-of-type {\n",
       "        vertical-align: middle;\n",
       "    }\n",
       "\n",
       "    .dataframe tbody tr th {\n",
       "        vertical-align: top;\n",
       "    }\n",
       "\n",
       "    .dataframe thead th {\n",
       "        text-align: right;\n",
       "    }\n",
       "</style>\n",
       "<table border=\"1\" class=\"dataframe\">\n",
       "  <thead>\n",
       "    <tr style=\"text-align: right;\">\n",
       "      <th></th>\n",
       "      <th></th>\n",
       "      <th></th>\n",
       "      <th></th>\n",
       "      <th></th>\n",
       "      <th></th>\n",
       "      <th></th>\n",
       "      <th></th>\n",
       "      <th></th>\n",
       "      <th></th>\n",
       "      <th></th>\n",
       "      <th></th>\n",
       "      <th></th>\n",
       "      <th></th>\n",
       "      <th></th>\n",
       "      <th></th>\n",
       "      <th></th>\n",
       "      <th></th>\n",
       "      <th></th>\n",
       "      <th></th>\n",
       "      <th></th>\n",
       "      <th></th>\n",
       "      <th></th>\n",
       "      <th></th>\n",
       "      <th></th>\n",
       "      <th></th>\n",
       "      <th></th>\n",
       "      <th></th>\n",
       "      <th></th>\n",
       "      <th></th>\n",
       "      <th></th>\n",
       "      <th></th>\n",
       "      <th></th>\n",
       "      <th></th>\n",
       "      <th></th>\n",
       "      <th></th>\n",
       "      <th></th>\n",
       "      <th></th>\n",
       "      <th></th>\n",
       "      <th></th>\n",
       "      <th></th>\n",
       "      <th></th>\n",
       "      <th></th>\n",
       "      <th></th>\n",
       "      <th></th>\n",
       "      <th></th>\n",
       "      <th></th>\n",
       "      <th></th>\n",
       "      <th></th>\n",
       "      <th></th>\n",
       "      <th></th>\n",
       "      <th></th>\n",
       "      <th></th>\n",
       "      <th></th>\n",
       "      <th></th>\n",
       "      <th></th>\n",
       "      <th></th>\n",
       "      <th></th>\n",
       "      <th></th>\n",
       "      <th></th>\n",
       "      <th></th>\n",
       "      <th></th>\n",
       "      <th></th>\n",
       "      <th></th>\n",
       "      <th></th>\n",
       "      <th></th>\n",
       "      <th></th>\n",
       "      <th></th>\n",
       "      <th></th>\n",
       "      <th></th>\n",
       "      <th></th>\n",
       "      <th></th>\n",
       "      <th></th>\n",
       "      <th></th>\n",
       "      <th></th>\n",
       "      <th></th>\n",
       "      <th></th>\n",
       "      <th></th>\n",
       "      <th></th>\n",
       "      <th></th>\n",
       "      <th></th>\n",
       "      <th></th>\n",
       "      <th></th>\n",
       "      <th></th>\n",
       "      <th>angle(X,gravityMean)</th>\n",
       "      <th>angle(Y,gravityMean)</th>\n",
       "      <th>angle(Z,gravityMean)</th>\n",
       "      <th>angle(tBodyAccJerkMean),gravityMean)</th>\n",
       "      <th>angle(tBodyAccMean,gravity)</th>\n",
       "      <th>angle(tBodyGyroJerkMean,gravityMean)</th>\n",
       "      <th>angle(tBodyGyroMean,gravityMean)</th>\n",
       "      <th>fBodyAcc-bandsEnergy()-1,16</th>\n",
       "      <th>fBodyAcc-bandsEnergy()-1,24</th>\n",
       "      <th>fBodyAcc-bandsEnergy()-1,8</th>\n",
       "      <th>...</th>\n",
       "      <th>tGravityAccMag-iqr()</th>\n",
       "      <th>tGravityAccMag-mad()</th>\n",
       "      <th>tGravityAccMag-max()</th>\n",
       "      <th>tGravityAccMag-mean()</th>\n",
       "      <th>tGravityAccMag-min()</th>\n",
       "      <th>tGravityAccMag-sma()</th>\n",
       "      <th>tGravityAccMag-std()</th>\n",
       "      <th>subject</th>\n",
       "      <th>Activity</th>\n",
       "      <th>ActivityName</th>\n",
       "    </tr>\n",
       "  </thead>\n",
       "  <tbody>\n",
       "    <tr>\n",
       "      <th>0.21984</th>\n",
       "      <th>-0.007466</th>\n",
       "      <th>-0.084608</th>\n",
       "      <th>-0.03617</th>\n",
       "      <th>-0.210969</th>\n",
       "      <th>-0.443458</th>\n",
       "      <th>-0.121675</th>\n",
       "      <th>-0.301598</th>\n",
       "      <th>-0.471024</th>\n",
       "      <th>0.410199</th>\n",
       "      <th>-0.072311</th>\n",
       "      <th>-0.566189</th>\n",
       "      <th>0.179162</th>\n",
       "      <th>0.153849</th>\n",
       "      <th>0.369318</th>\n",
       "      <th>-0.154035</th>\n",
       "      <th>-0.533928</th>\n",
       "      <th>-0.878757</th>\n",
       "      <th>-0.856765</th>\n",
       "      <th>-0.336448</th>\n",
       "      <th>-0.607084</th>\n",
       "      <th>-0.612227</th>\n",
       "      <th>0.116709</th>\n",
       "      <th>0.315539</th>\n",
       "      <th>0.339838</th>\n",
       "      <th>-0.097625</th>\n",
       "      <th>0.031472</th>\n",
       "      <th>-0.242615</th>\n",
       "      <th>0.527731</th>\n",
       "      <th>0.231566</th>\n",
       "      <th>-0.220195</th>\n",
       "      <th>0.464611</th>\n",
       "      <th>-0.099982</th>\n",
       "      <th>0.228027</th>\n",
       "      <th>-0.000001</th>\n",
       "      <th>-0.079861</th>\n",
       "      <th>0.361911</th>\n",
       "      <th>-0.566217</th>\n",
       "      <th>-0.497255</th>\n",
       "      <th>0.293115</th>\n",
       "      <th>0.940794</th>\n",
       "      <th>-0.169879</th>\n",
       "      <th>-0.094013</th>\n",
       "      <th>-0.969262</th>\n",
       "      <th>-0.979832</th>\n",
       "      <th>-0.964471</th>\n",
       "      <th>-0.970765</th>\n",
       "      <th>-0.979488</th>\n",
       "      <th>-0.963741</th>\n",
       "      <th>0.880732</th>\n",
       "      <th>-0.188314</th>\n",
       "      <th>-0.093447</th>\n",
       "      <th>0.951782</th>\n",
       "      <th>-0.14737</th>\n",
       "      <th>-0.097794</th>\n",
       "      <th>-0.367068</th>\n",
       "      <th>0.840263</th>\n",
       "      <th>-0.955519</th>\n",
       "      <th>-0.980311</th>\n",
       "      <th>-0.972623</th>\n",
       "      <th>-0.978886</th>\n",
       "      <th>-0.965859</th>\n",
       "      <th>-0.695022</th>\n",
       "      <th>-1.0</th>\n",
       "      <th>-1.0</th>\n",
       "      <th>-0.557082</th>\n",
       "      <th>0.619281</th>\n",
       "      <th>-0.679075</th>\n",
       "      <th>0.736421</th>\n",
       "      <th>-0.110489</th>\n",
       "      <th>0.100226</th>\n",
       "      <th>-0.148584</th>\n",
       "      <th>0.21907</th>\n",
       "      <th>-0.173053</th>\n",
       "      <th>0.278485</th>\n",
       "      <th>-0.383998</th>\n",
       "      <th>0.486784</th>\n",
       "      <th>-0.662032</th>\n",
       "      <th>0.893989</th>\n",
       "      <th>-0.592959</th>\n",
       "      <th>0.513891</th>\n",
       "      <th>-0.226908</th>\n",
       "      <th>-0.128349</th>\n",
       "      <th>-0.15403</th>\n",
       "      <td>-0.228479</td>\n",
       "      <td>-0.504625</td>\n",
       "      <td>-0.142271</td>\n",
       "      <td>-0.206701</td>\n",
       "      <td>-0.45038</td>\n",
       "      <td>-0.290037</td>\n",
       "      <td>-0.395952</td>\n",
       "      <td>-0.668616</td>\n",
       "      <td>-0.084486</td>\n",
       "      <td>0.482094</td>\n",
       "      <td>...</td>\n",
       "      <td>0.688872</td>\n",
       "      <td>-0.86881</td>\n",
       "      <td>0.89271</td>\n",
       "      <td>0.222676</td>\n",
       "      <td>-0.821776</td>\n",
       "      <td>0.20118</td>\n",
       "      <td>0.088091</td>\n",
       "      <td>NaN</td>\n",
       "      <td>NaN</td>\n",
       "      <td>NaN</td>\n",
       "    </tr>\n",
       "  </tbody>\n",
       "</table>\n",
       "<p>1 rows × 480 columns</p>\n",
       "</div>"
      ],
      "text/plain": [
       "                                                                                                                                                                                                                                                                                                                                                                                                                                                                                                                                                                                                                                                                                                                                                                                                                               angle(X,gravityMean)  \\\n",
       "0.21984 -0.007466 -0.084608 -0.03617 -0.210969 -0.443458 -0.121675 -0.301598 -0.471024 0.410199 -0.072311 -0.566189 0.179162 0.153849 0.369318 -0.154035 -0.533928 -0.878757 -0.856765 -0.336448 -0.607084 -0.612227 0.116709 0.315539 0.339838 -0.097625 0.031472 -0.242615 0.527731 0.231566 -0.220195 0.464611 -0.099982 0.228027 -0.000001 -0.079861 0.361911 -0.566217 -0.497255 0.293115 0.940794 -0.169879 -0.094013 -0.969262 -0.979832 -0.964471 -0.970765 -0.979488 -0.963741 0.880732 -0.188314 -0.093447 0.951782 -0.14737 -0.097794 -0.367068 0.840263 -0.955519 -0.980311 -0.972623 -0.978886 -0.965859 -0.695022 -1.0 -1.0 -0.557082 0.619281 -0.679075 0.736421 -0.110489 0.100226 -0.148584 0.21907 -0.173053 0.278485 -0.383998 0.486784 -0.662032 0.893989 -0.592959 0.513891 -0.226908 -0.128349 -0.15403             -0.228479   \n",
       "\n",
       "                                                                                                                                                                                                                                                                                                                                                                                                                                                                                                                                                                                                                                                                                                                                                                                                                               angle(Y,gravityMean)  \\\n",
       "0.21984 -0.007466 -0.084608 -0.03617 -0.210969 -0.443458 -0.121675 -0.301598 -0.471024 0.410199 -0.072311 -0.566189 0.179162 0.153849 0.369318 -0.154035 -0.533928 -0.878757 -0.856765 -0.336448 -0.607084 -0.612227 0.116709 0.315539 0.339838 -0.097625 0.031472 -0.242615 0.527731 0.231566 -0.220195 0.464611 -0.099982 0.228027 -0.000001 -0.079861 0.361911 -0.566217 -0.497255 0.293115 0.940794 -0.169879 -0.094013 -0.969262 -0.979832 -0.964471 -0.970765 -0.979488 -0.963741 0.880732 -0.188314 -0.093447 0.951782 -0.14737 -0.097794 -0.367068 0.840263 -0.955519 -0.980311 -0.972623 -0.978886 -0.965859 -0.695022 -1.0 -1.0 -0.557082 0.619281 -0.679075 0.736421 -0.110489 0.100226 -0.148584 0.21907 -0.173053 0.278485 -0.383998 0.486784 -0.662032 0.893989 -0.592959 0.513891 -0.226908 -0.128349 -0.15403             -0.504625   \n",
       "\n",
       "                                                                                                                                                                                                                                                                                                                                                                                                                                                                                                                                                                                                                                                                                                                                                                                                                               angle(Z,gravityMean)  \\\n",
       "0.21984 -0.007466 -0.084608 -0.03617 -0.210969 -0.443458 -0.121675 -0.301598 -0.471024 0.410199 -0.072311 -0.566189 0.179162 0.153849 0.369318 -0.154035 -0.533928 -0.878757 -0.856765 -0.336448 -0.607084 -0.612227 0.116709 0.315539 0.339838 -0.097625 0.031472 -0.242615 0.527731 0.231566 -0.220195 0.464611 -0.099982 0.228027 -0.000001 -0.079861 0.361911 -0.566217 -0.497255 0.293115 0.940794 -0.169879 -0.094013 -0.969262 -0.979832 -0.964471 -0.970765 -0.979488 -0.963741 0.880732 -0.188314 -0.093447 0.951782 -0.14737 -0.097794 -0.367068 0.840263 -0.955519 -0.980311 -0.972623 -0.978886 -0.965859 -0.695022 -1.0 -1.0 -0.557082 0.619281 -0.679075 0.736421 -0.110489 0.100226 -0.148584 0.21907 -0.173053 0.278485 -0.383998 0.486784 -0.662032 0.893989 -0.592959 0.513891 -0.226908 -0.128349 -0.15403             -0.142271   \n",
       "\n",
       "                                                                                                                                                                                                                                                                                                                                                                                                                                                                                                                                                                                                                                                                                                                                                                                                                               angle(tBodyAccJerkMean),gravityMean)  \\\n",
       "0.21984 -0.007466 -0.084608 -0.03617 -0.210969 -0.443458 -0.121675 -0.301598 -0.471024 0.410199 -0.072311 -0.566189 0.179162 0.153849 0.369318 -0.154035 -0.533928 -0.878757 -0.856765 -0.336448 -0.607084 -0.612227 0.116709 0.315539 0.339838 -0.097625 0.031472 -0.242615 0.527731 0.231566 -0.220195 0.464611 -0.099982 0.228027 -0.000001 -0.079861 0.361911 -0.566217 -0.497255 0.293115 0.940794 -0.169879 -0.094013 -0.969262 -0.979832 -0.964471 -0.970765 -0.979488 -0.963741 0.880732 -0.188314 -0.093447 0.951782 -0.14737 -0.097794 -0.367068 0.840263 -0.955519 -0.980311 -0.972623 -0.978886 -0.965859 -0.695022 -1.0 -1.0 -0.557082 0.619281 -0.679075 0.736421 -0.110489 0.100226 -0.148584 0.21907 -0.173053 0.278485 -0.383998 0.486784 -0.662032 0.893989 -0.592959 0.513891 -0.226908 -0.128349 -0.15403                             -0.206701   \n",
       "\n",
       "                                                                                                                                                                                                                                                                                                                                                                                                                                                                                                                                                                                                                                                                                                                                                                                                                               angle(tBodyAccMean,gravity)  \\\n",
       "0.21984 -0.007466 -0.084608 -0.03617 -0.210969 -0.443458 -0.121675 -0.301598 -0.471024 0.410199 -0.072311 -0.566189 0.179162 0.153849 0.369318 -0.154035 -0.533928 -0.878757 -0.856765 -0.336448 -0.607084 -0.612227 0.116709 0.315539 0.339838 -0.097625 0.031472 -0.242615 0.527731 0.231566 -0.220195 0.464611 -0.099982 0.228027 -0.000001 -0.079861 0.361911 -0.566217 -0.497255 0.293115 0.940794 -0.169879 -0.094013 -0.969262 -0.979832 -0.964471 -0.970765 -0.979488 -0.963741 0.880732 -0.188314 -0.093447 0.951782 -0.14737 -0.097794 -0.367068 0.840263 -0.955519 -0.980311 -0.972623 -0.978886 -0.965859 -0.695022 -1.0 -1.0 -0.557082 0.619281 -0.679075 0.736421 -0.110489 0.100226 -0.148584 0.21907 -0.173053 0.278485 -0.383998 0.486784 -0.662032 0.893989 -0.592959 0.513891 -0.226908 -0.128349 -0.15403                     -0.45038   \n",
       "\n",
       "                                                                                                                                                                                                                                                                                                                                                                                                                                                                                                                                                                                                                                                                                                                                                                                                                               angle(tBodyGyroJerkMean,gravityMean)  \\\n",
       "0.21984 -0.007466 -0.084608 -0.03617 -0.210969 -0.443458 -0.121675 -0.301598 -0.471024 0.410199 -0.072311 -0.566189 0.179162 0.153849 0.369318 -0.154035 -0.533928 -0.878757 -0.856765 -0.336448 -0.607084 -0.612227 0.116709 0.315539 0.339838 -0.097625 0.031472 -0.242615 0.527731 0.231566 -0.220195 0.464611 -0.099982 0.228027 -0.000001 -0.079861 0.361911 -0.566217 -0.497255 0.293115 0.940794 -0.169879 -0.094013 -0.969262 -0.979832 -0.964471 -0.970765 -0.979488 -0.963741 0.880732 -0.188314 -0.093447 0.951782 -0.14737 -0.097794 -0.367068 0.840263 -0.955519 -0.980311 -0.972623 -0.978886 -0.965859 -0.695022 -1.0 -1.0 -0.557082 0.619281 -0.679075 0.736421 -0.110489 0.100226 -0.148584 0.21907 -0.173053 0.278485 -0.383998 0.486784 -0.662032 0.893989 -0.592959 0.513891 -0.226908 -0.128349 -0.15403                             -0.290037   \n",
       "\n",
       "                                                                                                                                                                                                                                                                                                                                                                                                                                                                                                                                                                                                                                                                                                                                                                                                                               angle(tBodyGyroMean,gravityMean)  \\\n",
       "0.21984 -0.007466 -0.084608 -0.03617 -0.210969 -0.443458 -0.121675 -0.301598 -0.471024 0.410199 -0.072311 -0.566189 0.179162 0.153849 0.369318 -0.154035 -0.533928 -0.878757 -0.856765 -0.336448 -0.607084 -0.612227 0.116709 0.315539 0.339838 -0.097625 0.031472 -0.242615 0.527731 0.231566 -0.220195 0.464611 -0.099982 0.228027 -0.000001 -0.079861 0.361911 -0.566217 -0.497255 0.293115 0.940794 -0.169879 -0.094013 -0.969262 -0.979832 -0.964471 -0.970765 -0.979488 -0.963741 0.880732 -0.188314 -0.093447 0.951782 -0.14737 -0.097794 -0.367068 0.840263 -0.955519 -0.980311 -0.972623 -0.978886 -0.965859 -0.695022 -1.0 -1.0 -0.557082 0.619281 -0.679075 0.736421 -0.110489 0.100226 -0.148584 0.21907 -0.173053 0.278485 -0.383998 0.486784 -0.662032 0.893989 -0.592959 0.513891 -0.226908 -0.128349 -0.15403                         -0.395952   \n",
       "\n",
       "                                                                                                                                                                                                                                                                                                                                                                                                                                                                                                                                                                                                                                                                                                                                                                                                                               fBodyAcc-bandsEnergy()-1,16  \\\n",
       "0.21984 -0.007466 -0.084608 -0.03617 -0.210969 -0.443458 -0.121675 -0.301598 -0.471024 0.410199 -0.072311 -0.566189 0.179162 0.153849 0.369318 -0.154035 -0.533928 -0.878757 -0.856765 -0.336448 -0.607084 -0.612227 0.116709 0.315539 0.339838 -0.097625 0.031472 -0.242615 0.527731 0.231566 -0.220195 0.464611 -0.099982 0.228027 -0.000001 -0.079861 0.361911 -0.566217 -0.497255 0.293115 0.940794 -0.169879 -0.094013 -0.969262 -0.979832 -0.964471 -0.970765 -0.979488 -0.963741 0.880732 -0.188314 -0.093447 0.951782 -0.14737 -0.097794 -0.367068 0.840263 -0.955519 -0.980311 -0.972623 -0.978886 -0.965859 -0.695022 -1.0 -1.0 -0.557082 0.619281 -0.679075 0.736421 -0.110489 0.100226 -0.148584 0.21907 -0.173053 0.278485 -0.383998 0.486784 -0.662032 0.893989 -0.592959 0.513891 -0.226908 -0.128349 -0.15403                    -0.668616   \n",
       "\n",
       "                                                                                                                                                                                                                                                                                                                                                                                                                                                                                                                                                                                                                                                                                                                                                                                                                               fBodyAcc-bandsEnergy()-1,24  \\\n",
       "0.21984 -0.007466 -0.084608 -0.03617 -0.210969 -0.443458 -0.121675 -0.301598 -0.471024 0.410199 -0.072311 -0.566189 0.179162 0.153849 0.369318 -0.154035 -0.533928 -0.878757 -0.856765 -0.336448 -0.607084 -0.612227 0.116709 0.315539 0.339838 -0.097625 0.031472 -0.242615 0.527731 0.231566 -0.220195 0.464611 -0.099982 0.228027 -0.000001 -0.079861 0.361911 -0.566217 -0.497255 0.293115 0.940794 -0.169879 -0.094013 -0.969262 -0.979832 -0.964471 -0.970765 -0.979488 -0.963741 0.880732 -0.188314 -0.093447 0.951782 -0.14737 -0.097794 -0.367068 0.840263 -0.955519 -0.980311 -0.972623 -0.978886 -0.965859 -0.695022 -1.0 -1.0 -0.557082 0.619281 -0.679075 0.736421 -0.110489 0.100226 -0.148584 0.21907 -0.173053 0.278485 -0.383998 0.486784 -0.662032 0.893989 -0.592959 0.513891 -0.226908 -0.128349 -0.15403                    -0.084486   \n",
       "\n",
       "                                                                                                                                                                                                                                                                                                                                                                                                                                                                                                                                                                                                                                                                                                                                                                                                                               fBodyAcc-bandsEnergy()-1,8  \\\n",
       "0.21984 -0.007466 -0.084608 -0.03617 -0.210969 -0.443458 -0.121675 -0.301598 -0.471024 0.410199 -0.072311 -0.566189 0.179162 0.153849 0.369318 -0.154035 -0.533928 -0.878757 -0.856765 -0.336448 -0.607084 -0.612227 0.116709 0.315539 0.339838 -0.097625 0.031472 -0.242615 0.527731 0.231566 -0.220195 0.464611 -0.099982 0.228027 -0.000001 -0.079861 0.361911 -0.566217 -0.497255 0.293115 0.940794 -0.169879 -0.094013 -0.969262 -0.979832 -0.964471 -0.970765 -0.979488 -0.963741 0.880732 -0.188314 -0.093447 0.951782 -0.14737 -0.097794 -0.367068 0.840263 -0.955519 -0.980311 -0.972623 -0.978886 -0.965859 -0.695022 -1.0 -1.0 -0.557082 0.619281 -0.679075 0.736421 -0.110489 0.100226 -0.148584 0.21907 -0.173053 0.278485 -0.383998 0.486784 -0.662032 0.893989 -0.592959 0.513891 -0.226908 -0.128349 -0.15403                    0.482094   \n",
       "\n",
       "                                                                                                                                                                                                                                                                                                                                                                                                                                                                                                                                                                                                                                                                                                                                                                                                                               ...  \\\n",
       "0.21984 -0.007466 -0.084608 -0.03617 -0.210969 -0.443458 -0.121675 -0.301598 -0.471024 0.410199 -0.072311 -0.566189 0.179162 0.153849 0.369318 -0.154035 -0.533928 -0.878757 -0.856765 -0.336448 -0.607084 -0.612227 0.116709 0.315539 0.339838 -0.097625 0.031472 -0.242615 0.527731 0.231566 -0.220195 0.464611 -0.099982 0.228027 -0.000001 -0.079861 0.361911 -0.566217 -0.497255 0.293115 0.940794 -0.169879 -0.094013 -0.969262 -0.979832 -0.964471 -0.970765 -0.979488 -0.963741 0.880732 -0.188314 -0.093447 0.951782 -0.14737 -0.097794 -0.367068 0.840263 -0.955519 -0.980311 -0.972623 -0.978886 -0.965859 -0.695022 -1.0 -1.0 -0.557082 0.619281 -0.679075 0.736421 -0.110489 0.100226 -0.148584 0.21907 -0.173053 0.278485 -0.383998 0.486784 -0.662032 0.893989 -0.592959 0.513891 -0.226908 -0.128349 -0.15403  ...   \n",
       "\n",
       "                                                                                                                                                                                                                                                                                                                                                                                                                                                                                                                                                                                                                                                                                                                                                                                                                               tGravityAccMag-iqr()  \\\n",
       "0.21984 -0.007466 -0.084608 -0.03617 -0.210969 -0.443458 -0.121675 -0.301598 -0.471024 0.410199 -0.072311 -0.566189 0.179162 0.153849 0.369318 -0.154035 -0.533928 -0.878757 -0.856765 -0.336448 -0.607084 -0.612227 0.116709 0.315539 0.339838 -0.097625 0.031472 -0.242615 0.527731 0.231566 -0.220195 0.464611 -0.099982 0.228027 -0.000001 -0.079861 0.361911 -0.566217 -0.497255 0.293115 0.940794 -0.169879 -0.094013 -0.969262 -0.979832 -0.964471 -0.970765 -0.979488 -0.963741 0.880732 -0.188314 -0.093447 0.951782 -0.14737 -0.097794 -0.367068 0.840263 -0.955519 -0.980311 -0.972623 -0.978886 -0.965859 -0.695022 -1.0 -1.0 -0.557082 0.619281 -0.679075 0.736421 -0.110489 0.100226 -0.148584 0.21907 -0.173053 0.278485 -0.383998 0.486784 -0.662032 0.893989 -0.592959 0.513891 -0.226908 -0.128349 -0.15403              0.688872   \n",
       "\n",
       "                                                                                                                                                                                                                                                                                                                                                                                                                                                                                                                                                                                                                                                                                                                                                                                                                               tGravityAccMag-mad()  \\\n",
       "0.21984 -0.007466 -0.084608 -0.03617 -0.210969 -0.443458 -0.121675 -0.301598 -0.471024 0.410199 -0.072311 -0.566189 0.179162 0.153849 0.369318 -0.154035 -0.533928 -0.878757 -0.856765 -0.336448 -0.607084 -0.612227 0.116709 0.315539 0.339838 -0.097625 0.031472 -0.242615 0.527731 0.231566 -0.220195 0.464611 -0.099982 0.228027 -0.000001 -0.079861 0.361911 -0.566217 -0.497255 0.293115 0.940794 -0.169879 -0.094013 -0.969262 -0.979832 -0.964471 -0.970765 -0.979488 -0.963741 0.880732 -0.188314 -0.093447 0.951782 -0.14737 -0.097794 -0.367068 0.840263 -0.955519 -0.980311 -0.972623 -0.978886 -0.965859 -0.695022 -1.0 -1.0 -0.557082 0.619281 -0.679075 0.736421 -0.110489 0.100226 -0.148584 0.21907 -0.173053 0.278485 -0.383998 0.486784 -0.662032 0.893989 -0.592959 0.513891 -0.226908 -0.128349 -0.15403              -0.86881   \n",
       "\n",
       "                                                                                                                                                                                                                                                                                                                                                                                                                                                                                                                                                                                                                                                                                                                                                                                                                               tGravityAccMag-max()  \\\n",
       "0.21984 -0.007466 -0.084608 -0.03617 -0.210969 -0.443458 -0.121675 -0.301598 -0.471024 0.410199 -0.072311 -0.566189 0.179162 0.153849 0.369318 -0.154035 -0.533928 -0.878757 -0.856765 -0.336448 -0.607084 -0.612227 0.116709 0.315539 0.339838 -0.097625 0.031472 -0.242615 0.527731 0.231566 -0.220195 0.464611 -0.099982 0.228027 -0.000001 -0.079861 0.361911 -0.566217 -0.497255 0.293115 0.940794 -0.169879 -0.094013 -0.969262 -0.979832 -0.964471 -0.970765 -0.979488 -0.963741 0.880732 -0.188314 -0.093447 0.951782 -0.14737 -0.097794 -0.367068 0.840263 -0.955519 -0.980311 -0.972623 -0.978886 -0.965859 -0.695022 -1.0 -1.0 -0.557082 0.619281 -0.679075 0.736421 -0.110489 0.100226 -0.148584 0.21907 -0.173053 0.278485 -0.383998 0.486784 -0.662032 0.893989 -0.592959 0.513891 -0.226908 -0.128349 -0.15403               0.89271   \n",
       "\n",
       "                                                                                                                                                                                                                                                                                                                                                                                                                                                                                                                                                                                                                                                                                                                                                                                                                               tGravityAccMag-mean()  \\\n",
       "0.21984 -0.007466 -0.084608 -0.03617 -0.210969 -0.443458 -0.121675 -0.301598 -0.471024 0.410199 -0.072311 -0.566189 0.179162 0.153849 0.369318 -0.154035 -0.533928 -0.878757 -0.856765 -0.336448 -0.607084 -0.612227 0.116709 0.315539 0.339838 -0.097625 0.031472 -0.242615 0.527731 0.231566 -0.220195 0.464611 -0.099982 0.228027 -0.000001 -0.079861 0.361911 -0.566217 -0.497255 0.293115 0.940794 -0.169879 -0.094013 -0.969262 -0.979832 -0.964471 -0.970765 -0.979488 -0.963741 0.880732 -0.188314 -0.093447 0.951782 -0.14737 -0.097794 -0.367068 0.840263 -0.955519 -0.980311 -0.972623 -0.978886 -0.965859 -0.695022 -1.0 -1.0 -0.557082 0.619281 -0.679075 0.736421 -0.110489 0.100226 -0.148584 0.21907 -0.173053 0.278485 -0.383998 0.486784 -0.662032 0.893989 -0.592959 0.513891 -0.226908 -0.128349 -0.15403               0.222676   \n",
       "\n",
       "                                                                                                                                                                                                                                                                                                                                                                                                                                                                                                                                                                                                                                                                                                                                                                                                                               tGravityAccMag-min()  \\\n",
       "0.21984 -0.007466 -0.084608 -0.03617 -0.210969 -0.443458 -0.121675 -0.301598 -0.471024 0.410199 -0.072311 -0.566189 0.179162 0.153849 0.369318 -0.154035 -0.533928 -0.878757 -0.856765 -0.336448 -0.607084 -0.612227 0.116709 0.315539 0.339838 -0.097625 0.031472 -0.242615 0.527731 0.231566 -0.220195 0.464611 -0.099982 0.228027 -0.000001 -0.079861 0.361911 -0.566217 -0.497255 0.293115 0.940794 -0.169879 -0.094013 -0.969262 -0.979832 -0.964471 -0.970765 -0.979488 -0.963741 0.880732 -0.188314 -0.093447 0.951782 -0.14737 -0.097794 -0.367068 0.840263 -0.955519 -0.980311 -0.972623 -0.978886 -0.965859 -0.695022 -1.0 -1.0 -0.557082 0.619281 -0.679075 0.736421 -0.110489 0.100226 -0.148584 0.21907 -0.173053 0.278485 -0.383998 0.486784 -0.662032 0.893989 -0.592959 0.513891 -0.226908 -0.128349 -0.15403             -0.821776   \n",
       "\n",
       "                                                                                                                                                                                                                                                                                                                                                                                                                                                                                                                                                                                                                                                                                                                                                                                                                               tGravityAccMag-sma()  \\\n",
       "0.21984 -0.007466 -0.084608 -0.03617 -0.210969 -0.443458 -0.121675 -0.301598 -0.471024 0.410199 -0.072311 -0.566189 0.179162 0.153849 0.369318 -0.154035 -0.533928 -0.878757 -0.856765 -0.336448 -0.607084 -0.612227 0.116709 0.315539 0.339838 -0.097625 0.031472 -0.242615 0.527731 0.231566 -0.220195 0.464611 -0.099982 0.228027 -0.000001 -0.079861 0.361911 -0.566217 -0.497255 0.293115 0.940794 -0.169879 -0.094013 -0.969262 -0.979832 -0.964471 -0.970765 -0.979488 -0.963741 0.880732 -0.188314 -0.093447 0.951782 -0.14737 -0.097794 -0.367068 0.840263 -0.955519 -0.980311 -0.972623 -0.978886 -0.965859 -0.695022 -1.0 -1.0 -0.557082 0.619281 -0.679075 0.736421 -0.110489 0.100226 -0.148584 0.21907 -0.173053 0.278485 -0.383998 0.486784 -0.662032 0.893989 -0.592959 0.513891 -0.226908 -0.128349 -0.15403               0.20118   \n",
       "\n",
       "                                                                                                                                                                                                                                                                                                                                                                                                                                                                                                                                                                                                                                                                                                                                                                                                                               tGravityAccMag-std()  \\\n",
       "0.21984 -0.007466 -0.084608 -0.03617 -0.210969 -0.443458 -0.121675 -0.301598 -0.471024 0.410199 -0.072311 -0.566189 0.179162 0.153849 0.369318 -0.154035 -0.533928 -0.878757 -0.856765 -0.336448 -0.607084 -0.612227 0.116709 0.315539 0.339838 -0.097625 0.031472 -0.242615 0.527731 0.231566 -0.220195 0.464611 -0.099982 0.228027 -0.000001 -0.079861 0.361911 -0.566217 -0.497255 0.293115 0.940794 -0.169879 -0.094013 -0.969262 -0.979832 -0.964471 -0.970765 -0.979488 -0.963741 0.880732 -0.188314 -0.093447 0.951782 -0.14737 -0.097794 -0.367068 0.840263 -0.955519 -0.980311 -0.972623 -0.978886 -0.965859 -0.695022 -1.0 -1.0 -0.557082 0.619281 -0.679075 0.736421 -0.110489 0.100226 -0.148584 0.21907 -0.173053 0.278485 -0.383998 0.486784 -0.662032 0.893989 -0.592959 0.513891 -0.226908 -0.128349 -0.15403              0.088091   \n",
       "\n",
       "                                                                                                                                                                                                                                                                                                                                                                                                                                                                                                                                                                                                                                                                                                                                                                                                                               subject  \\\n",
       "0.21984 -0.007466 -0.084608 -0.03617 -0.210969 -0.443458 -0.121675 -0.301598 -0.471024 0.410199 -0.072311 -0.566189 0.179162 0.153849 0.369318 -0.154035 -0.533928 -0.878757 -0.856765 -0.336448 -0.607084 -0.612227 0.116709 0.315539 0.339838 -0.097625 0.031472 -0.242615 0.527731 0.231566 -0.220195 0.464611 -0.099982 0.228027 -0.000001 -0.079861 0.361911 -0.566217 -0.497255 0.293115 0.940794 -0.169879 -0.094013 -0.969262 -0.979832 -0.964471 -0.970765 -0.979488 -0.963741 0.880732 -0.188314 -0.093447 0.951782 -0.14737 -0.097794 -0.367068 0.840263 -0.955519 -0.980311 -0.972623 -0.978886 -0.965859 -0.695022 -1.0 -1.0 -0.557082 0.619281 -0.679075 0.736421 -0.110489 0.100226 -0.148584 0.21907 -0.173053 0.278485 -0.383998 0.486784 -0.662032 0.893989 -0.592959 0.513891 -0.226908 -0.128349 -0.15403      NaN   \n",
       "\n",
       "                                                                                                                                                                                                                                                                                                                                                                                                                                                                                                                                                                                                                                                                                                                                                                                                                               Activity  \\\n",
       "0.21984 -0.007466 -0.084608 -0.03617 -0.210969 -0.443458 -0.121675 -0.301598 -0.471024 0.410199 -0.072311 -0.566189 0.179162 0.153849 0.369318 -0.154035 -0.533928 -0.878757 -0.856765 -0.336448 -0.607084 -0.612227 0.116709 0.315539 0.339838 -0.097625 0.031472 -0.242615 0.527731 0.231566 -0.220195 0.464611 -0.099982 0.228027 -0.000001 -0.079861 0.361911 -0.566217 -0.497255 0.293115 0.940794 -0.169879 -0.094013 -0.969262 -0.979832 -0.964471 -0.970765 -0.979488 -0.963741 0.880732 -0.188314 -0.093447 0.951782 -0.14737 -0.097794 -0.367068 0.840263 -0.955519 -0.980311 -0.972623 -0.978886 -0.965859 -0.695022 -1.0 -1.0 -0.557082 0.619281 -0.679075 0.736421 -0.110489 0.100226 -0.148584 0.21907 -0.173053 0.278485 -0.383998 0.486784 -0.662032 0.893989 -0.592959 0.513891 -0.226908 -0.128349 -0.15403       NaN   \n",
       "\n",
       "                                                                                                                                                                                                                                                                                                                                                                                                                                                                                                                                                                                                                                                                                                                                                                                                                               ActivityName  \n",
       "0.21984 -0.007466 -0.084608 -0.03617 -0.210969 -0.443458 -0.121675 -0.301598 -0.471024 0.410199 -0.072311 -0.566189 0.179162 0.153849 0.369318 -0.154035 -0.533928 -0.878757 -0.856765 -0.336448 -0.607084 -0.612227 0.116709 0.315539 0.339838 -0.097625 0.031472 -0.242615 0.527731 0.231566 -0.220195 0.464611 -0.099982 0.228027 -0.000001 -0.079861 0.361911 -0.566217 -0.497255 0.293115 0.940794 -0.169879 -0.094013 -0.969262 -0.979832 -0.964471 -0.970765 -0.979488 -0.963741 0.880732 -0.188314 -0.093447 0.951782 -0.14737 -0.097794 -0.367068 0.840263 -0.955519 -0.980311 -0.972623 -0.978886 -0.965859 -0.695022 -1.0 -1.0 -0.557082 0.619281 -0.679075 0.736421 -0.110489 0.100226 -0.148584 0.21907 -0.173053 0.278485 -0.383998 0.486784 -0.662032 0.893989 -0.592959 0.513891 -0.226908 -0.128349 -0.15403           NaN  \n",
       "\n",
       "[1 rows x 480 columns]"
      ]
     },
     "execution_count": 10,
     "metadata": {},
     "output_type": "execute_result"
    }
   ],
   "source": [
    "# get the data from txt files to pandas dataffame\n",
    "X_test = pd.read_csv('UCI_HAR_dataset/test/X_test.txt', delim_whitespace=True, header=None, names=features)\n",
    "\n",
    "# add subject column to the dataframe\n",
    "X_test['subject'] = pd.read_csv('UCI_HAR_dataset/test/subject_test.txt', header=None)\n",
    "\n",
    "# get y labels from the txt file\n",
    "y_test = pd.read_csv('UCI_HAR_dataset/test/y_test.txt', names=['Activity'])\n",
    "\n",
    "y_test = y_test.squeeze()\n",
    "y_test_labels = y_test.map({1: 'WALKING', 2:'WALKING_UPSTAIRS',3:'WALKING_DOWNSTAIRS',\\\n",
    "                       4:'SITTING', 5:'STANDING',6:'LAYING'})\n",
    "\n",
    "# put all columns in a single dataframe\n",
    "test = X_test\n",
    "test['Activity'] = y_test\n",
    "test['ActivityName'] = y_test_labels\n",
    "test.sample()"
   ]
  },
  {
   "cell_type": "code",
   "execution_count": 11,
   "metadata": {},
   "outputs": [
    {
     "data": {
      "text/plain": [
       "(2947, 480)"
      ]
     },
     "execution_count": 11,
     "metadata": {},
     "output_type": "execute_result"
    }
   ],
   "source": [
    "test.shape"
   ]
  },
  {
   "cell_type": "markdown",
   "metadata": {},
   "source": [
    " "
   ]
  },
  {
   "cell_type": "markdown",
   "metadata": {
    "collapsed": true,
    "jupyter": {
     "outputs_hidden": true
    }
   },
   "source": [
    "# Data Cleaning"
   ]
  },
  {
   "cell_type": "markdown",
   "metadata": {},
   "source": [
    "## 1. Check for Duplicates"
   ]
  },
  {
   "cell_type": "code",
   "execution_count": 12,
   "metadata": {
    "scrolled": true
   },
   "outputs": [
    {
     "name": "stdout",
     "output_type": "stream",
     "text": [
      "No of duplicates in train: 0\n",
      "No of duplicates in test : 0\n"
     ]
    }
   ],
   "source": [
    "print('No of duplicates in train: {}'.format(sum(train.duplicated())))\n",
    "print('No of duplicates in test : {}'.format(sum(test.duplicated())))"
   ]
  },
  {
   "cell_type": "markdown",
   "metadata": {},
   "source": [
    " "
   ]
  },
  {
   "cell_type": "markdown",
   "metadata": {},
   "source": [
    "## 2. Checking for NaN/null values"
   ]
  },
  {
   "cell_type": "code",
   "execution_count": 13,
   "metadata": {},
   "outputs": [
    {
     "name": "stdout",
     "output_type": "stream",
     "text": [
      "We have 22056 NaN/Null values in train\n",
      "We have 8841 NaN/Null values in test\n"
     ]
    }
   ],
   "source": [
    "print('We have {} NaN/Null values in train'.format(train.isnull().values.sum()))\n",
    "print('We have {} NaN/Null values in test'.format(test.isnull().values.sum()))"
   ]
  },
  {
   "cell_type": "markdown",
   "metadata": {},
   "source": [
    "   "
   ]
  },
  {
   "cell_type": "markdown",
   "metadata": {},
   "source": [
    " "
   ]
  },
  {
   "cell_type": "markdown",
   "metadata": {},
   "source": [
    "## 3. Check for data imbalance"
   ]
  },
  {
   "cell_type": "code",
   "execution_count": null,
   "metadata": {},
   "outputs": [],
   "source": [
    "train = train.dropna()"
   ]
  },
  {
   "cell_type": "code",
   "execution_count": null,
   "metadata": {},
   "outputs": [],
   "source": [
    "train.shape"
   ]
  },
  {
   "cell_type": "code",
   "execution_count": null,
   "metadata": {},
   "outputs": [],
   "source": [
    "import matplotlib.pyplot as plt\n",
    "import seaborn as sns\n",
    "\n",
    "sns.set_style('whitegrid')\n",
    "plt.rcParams['font.family'] = 'Dejavu Sans'"
   ]
  },
  {
   "cell_type": "code",
   "execution_count": null,
   "metadata": {},
   "outputs": [],
   "source": [
    "plt.figure(figsize=(16,8))\n",
    "plt.title('Data provided by each user', fontsize=20)\n",
    "sns.countplot(x='subject',hue='ActivityName', data = train)\n",
    "plt.show()\n"
   ]
  },
  {
   "cell_type": "markdown",
   "metadata": {},
   "source": [
    "> We have got almost same number of reading from all the subjects"
   ]
  },
  {
   "cell_type": "code",
   "execution_count": null,
   "metadata": {},
   "outputs": [],
   "source": [
    "plt.title('No of Datapoints per Activity', fontsize=15)\n",
    "sns.countplot(train.ActivityName)\n",
    "plt.xticks(rotation=90)\n",
    "plt.show()"
   ]
  },
  {
   "cell_type": "markdown",
   "metadata": {},
   "source": [
    "### Observation\n",
    "> Our data is well balanced (almost)"
   ]
  },
  {
   "cell_type": "markdown",
   "metadata": {},
   "source": [
    "## 4. Changing feature names "
   ]
  },
  {
   "cell_type": "code",
   "execution_count": null,
   "metadata": {},
   "outputs": [],
   "source": [
    "columns = train.columns\n",
    "\n",
    "# Removing '()' from column names\n",
    "columns = columns.str.replace('[()]','')\n",
    "columns = columns.str.replace('[-]', '')\n",
    "columns = columns.str.replace('[,]','')\n",
    "\n",
    "train.columns = columns\n",
    "test.columns = columns\n",
    "\n",
    "test.columns"
   ]
  },
  {
   "cell_type": "markdown",
   "metadata": {},
   "source": [
    "## 5. Save this dataframe in a csv files"
   ]
  },
  {
   "cell_type": "code",
   "execution_count": null,
   "metadata": {},
   "outputs": [],
   "source": [
    "train.to_csv('UCI_HAR_Dataset/csv_files/train.csv', index=False)\n",
    "test.to_csv('UCI_HAR_Dataset/csv_files/test.csv', index=False)"
   ]
  },
  {
   "cell_type": "markdown",
   "metadata": {},
   "source": [
    " "
   ]
  },
  {
   "cell_type": "markdown",
   "metadata": {},
   "source": [
    "# Exploratory Data Analysis"
   ]
  },
  {
   "cell_type": "markdown",
   "metadata": {},
   "source": [
    "\"___Without domain knowledge EDA has no meaning, without EDA a problem has no soul.___\""
   ]
  },
  {
   "cell_type": "markdown",
   "metadata": {},
   "source": [
    "### 1. Featuring Engineering from Domain Knowledge \n"
   ]
  },
  {
   "cell_type": "markdown",
   "metadata": {},
   "source": [
    "\n",
    "\n",
    "+ __Static and Dynamic Activities__\n",
    "\n",
    "    - In static activities (sit, stand, lie down) motion information will not be very useful.\n",
    "\t- In the dynamic activities (Walking, WalkingUpstairs,WalkingDownstairs) motion info will be significant.\n",
    "\n",
    "\n"
   ]
  },
  {
   "cell_type": "markdown",
   "metadata": {},
   "source": [
    "### 2. Stationary and Moving activities are completely different"
   ]
  },
  {
   "cell_type": "code",
   "execution_count": null,
   "metadata": {},
   "outputs": [],
   "source": [
    "sns.set_palette(\"Set1\", desat=0.80)\n",
    "facetgrid = sns.FacetGrid(train, hue='ActivityName',aspect=2)\n",
    "facetgrid.map(sns.distplot,'tBodyAccMagmean', hist=False)\\\n",
    "    .add_legend()\n",
    "plt.annotate(\"Stationary Activities\", xy=(-0.956,17), xytext=(-0.9, 23), size=20,\\\n",
    "            va='center', ha='left',\\\n",
    "            arrowprops=dict(arrowstyle=\"simple\",connectionstyle=\"arc3,rad=0.1\"))\n",
    "\n",
    "plt.annotate(\"Moving Activities\", xy=(0,3), xytext=(0.2, 9), size=20,\\\n",
    "            va='center', ha='left',\\\n",
    "            arrowprops=dict(arrowstyle=\"simple\",connectionstyle=\"arc3,rad=0.1\"))\n",
    "plt.show()"
   ]
  },
  {
   "cell_type": "code",
   "execution_count": null,
   "metadata": {},
   "outputs": [],
   "source": [
    "# for plotting purposes taking datapoints of each activity to a different dataframe\n",
    "df1 = train[train['Activity']==1]\n",
    "df2 = train[train['Activity']==2]\n",
    "df3 = train[train['Activity']==3]\n",
    "df4 = train[train['Activity']==4]\n",
    "df5 = train[train['Activity']==5]\n",
    "df6 = train[train['Activity']==6]\n",
    "\n",
    "plt.figure(figsize=(14,7))\n",
    "plt.subplot(2,2,1)\n",
    "plt.title('Stationary Activities(Zoomed in)')\n",
    "sns.distplot(df4['tBodyAccMagmean'],color = 'r',hist = False, label = 'Sitting')\n",
    "sns.distplot(df5['tBodyAccMagmean'],color = 'm',hist = False,label = 'Standing')\n",
    "sns.distplot(df6['tBodyAccMagmean'],color = 'c',hist = False, label = 'Laying')\n",
    "plt.axis([-1.01, -0.5, 0, 35])\n",
    "plt.legend(loc='center')\n",
    "\n",
    "plt.subplot(2,2,2)\n",
    "plt.title('Moving Activities')\n",
    "sns.distplot(df1['tBodyAccMagmean'],color = 'red',hist = False, label = 'Walking')\n",
    "sns.distplot(df2['tBodyAccMagmean'],color = 'blue',hist = False,label = 'Walking Up')\n",
    "sns.distplot(df3['tBodyAccMagmean'],color = 'green',hist = False, label = 'Walking down')\n",
    "plt.legend(loc='center right')\n",
    "\n",
    "\n",
    "plt.tight_layout()\n",
    "plt.show()"
   ]
  },
  {
   "cell_type": "markdown",
   "metadata": {},
   "source": [
    "### 3. Magnitude of an acceleration can saperate it well"
   ]
  },
  {
   "cell_type": "code",
   "execution_count": null,
   "metadata": {},
   "outputs": [],
   "source": [
    "plt.figure(figsize=(7,7))\n",
    "sns.boxplot(x='ActivityName', y='tBodyAccMagmean',data=train, showfliers=False, saturation=1)\n",
    "plt.ylabel('Acceleration Magnitude mean')\n",
    "plt.axhline(y=-0.7, xmin=0.1, xmax=0.9,dashes=(5,5), c='g')\n",
    "plt.axhline(y=-0.05, xmin=0.4, dashes=(5,5), c='m')\n",
    "plt.xticks(rotation=90)\n",
    "plt.show()"
   ]
  },
  {
   "cell_type": "markdown",
   "metadata": {},
   "source": [
    "__ Observations__:\n",
    "- If tAccMean is < -0.8 then the Activities are either Standing or Sitting or Laying.\n",
    "- If tAccMean is > -0.6 then the Activities are either Walking or WalkingDownstairs or WalkingUpstairs.\n",
    "- If tAccMean > 0.0 then the Activity is WalkingDownstairs.\n",
    "- We can classify 75% the Acitivity labels with some errors."
   ]
  },
  {
   "cell_type": "markdown",
   "metadata": {},
   "source": [
    "### 4. Position of GravityAccelerationComponants also matters "
   ]
  },
  {
   "cell_type": "code",
   "execution_count": null,
   "metadata": {},
   "outputs": [],
   "source": [
    "sns.boxplot(x='ActivityName', y='angleXgravityMean', data=train)\n",
    "plt.axhline(y=0.08, xmin=0.1, xmax=0.9,c='m',dashes=(5,3))\n",
    "plt.title('Angle between X-axis and Gravity_mean', fontsize=15)\n",
    "plt.xticks(rotation = 40)\n",
    "plt.show()"
   ]
  },
  {
   "cell_type": "markdown",
   "metadata": {},
   "source": [
    "__ Observations__:\n",
    "* If angleX,gravityMean > 0 then Activity is Laying.\n",
    "* We can classify all datapoints belonging to Laying activity with just a single if else statement."
   ]
  },
  {
   "cell_type": "code",
   "execution_count": null,
   "metadata": {},
   "outputs": [],
   "source": [
    "sns.boxplot(x='ActivityName', y='angleYgravityMean', data = train, showfliers=False)\n",
    "plt.title('Angle between Y-axis and Gravity_mean', fontsize=15)\n",
    "plt.xticks(rotation = 40)\n",
    "plt.axhline(y=-0.22, xmin=0.1, xmax=0.8, dashes=(5,3), c='m')\n",
    "plt.show()"
   ]
  },
  {
   "cell_type": "markdown",
   "metadata": {},
   "source": [
    " "
   ]
  },
  {
   "cell_type": "markdown",
   "metadata": {},
   "source": [
    " "
   ]
  },
  {
   "cell_type": "markdown",
   "metadata": {},
   "source": [
    " "
   ]
  },
  {
   "cell_type": "markdown",
   "metadata": {},
   "source": [
    "# Apply t-sne on the data "
   ]
  },
  {
   "cell_type": "code",
   "execution_count": null,
   "metadata": {},
   "outputs": [],
   "source": [
    "import numpy as np\n",
    "from sklearn.manifold import TSNE\n",
    "import matplotlib.pyplot as plt\n",
    "import seaborn as sns"
   ]
  },
  {
   "cell_type": "code",
   "execution_count": null,
   "metadata": {},
   "outputs": [],
   "source": [
    "# performs t-sne with different perplexity values and their repective plots..\n",
    "\n",
    "def perform_tsne(X_data, y_data, perplexities, n_iter=1000, img_name_prefix='t-sne'):\n",
    "        \n",
    "    for index,perplexity in enumerate(perplexities):\n",
    "        # perform t-sne\n",
    "        print('\\nperforming tsne with perplexity {} and with {} iterations at max'.format(perplexity, n_iter))\n",
    "        X_reduced = TSNE(verbose=2, perplexity=perplexity).fit_transform(X_data)\n",
    "        print('Done..')\n",
    "        \n",
    "        # prepare the data for seaborn         \n",
    "        print('Creating plot for this t-sne visualization..')\n",
    "        df = pd.DataFrame({'x':X_reduced[:,0], 'y':X_reduced[:,1] ,'label':y_data})\n",
    "        \n",
    "        # draw the plot in appropriate place in the grid\n",
    "        sns.lmplot(data=df, x='x', y='y', hue='label', fit_reg=False, size=8,\\\n",
    "                   palette=\"Set1\",markers=['^','v','s','o', '1','2'])\n",
    "        plt.title(\"perplexity : {} and max_iter : {}\".format(perplexity, n_iter))\n",
    "        img_name = img_name_prefix + '_perp_{}_iter_{}.png'.format(perplexity, n_iter)\n",
    "        print('saving this plot as image in present working directory...')\n",
    "        plt.savefig(img_name)\n",
    "        plt.show()\n",
    "        print('Done')\n"
   ]
  },
  {
   "cell_type": "code",
   "execution_count": null,
   "metadata": {},
   "outputs": [],
   "source": [
    "X_pre_tsne = train.drop(['subject', 'Activity','ActivityName'], axis=1)\n",
    "y_pre_tsne = train['ActivityName']\n",
    "perform_tsne(X_data = X_pre_tsne,y_data=y_pre_tsne, perplexities =[2,5,10,20,50])"
   ]
  },
  {
   "cell_type": "markdown",
   "metadata": {},
   "source": [
    " "
   ]
  },
  {
   "cell_type": "markdown",
   "metadata": {},
   "source": [
    " "
   ]
  },
  {
   "cell_type": "markdown",
   "metadata": {},
   "source": [
    " "
   ]
  },
  {
   "cell_type": "markdown",
   "metadata": {},
   "source": [
    " "
   ]
  },
  {
   "cell_type": "markdown",
   "metadata": {},
   "source": [
    " "
   ]
  },
  {
   "cell_type": "markdown",
   "metadata": {},
   "source": [
    " "
   ]
  }
 ],
 "metadata": {
  "kernelspec": {
   "display_name": "Python 3 (ipykernel)",
   "language": "python",
   "name": "python3"
  },
  "language_info": {
   "codemirror_mode": {
    "name": "ipython",
    "version": 3
   },
   "file_extension": ".py",
   "mimetype": "text/x-python",
   "name": "python",
   "nbconvert_exporter": "python",
   "pygments_lexer": "ipython3",
   "version": "3.10.13"
  }
 },
 "nbformat": 4,
 "nbformat_minor": 4
}
