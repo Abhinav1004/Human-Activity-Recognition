{
 "cells": [
  {
   "cell_type": "code",
   "execution_count": 1,
   "metadata": {},
   "outputs": [],
   "source": [
    "# Importing Libraries"
   ]
  },
  {
   "cell_type": "code",
   "execution_count": 2,
   "metadata": {},
   "outputs": [],
   "source": [
    "import pandas as pd\n",
    "import numpy as np"
   ]
  },
  {
   "cell_type": "code",
   "execution_count": 3,
   "metadata": {},
   "outputs": [],
   "source": [
    "# Activities are the class labels\n",
    "# It is a 6 class classification\n",
    "ACTIVITIES = {\n",
    "    0: 'WALKING',\n",
    "    1: 'WALKING_UPSTAIRS',\n",
    "    2: 'WALKING_DOWNSTAIRS',\n",
    "    3: 'SITTING',\n",
    "    4: 'STANDING',\n",
    "    5: 'LAYING',\n",
    "}\n",
    "\n",
    "# Utility function to print the confusion matrix\n",
    "def confusion_matrix(Y_true, Y_pred):\n",
    "    Y_true = pd.Series([ACTIVITIES[y] for y in np.argmax(Y_true, axis=1)])\n",
    "    Y_pred = pd.Series([ACTIVITIES[y] for y in np.argmax(Y_pred, axis=1)])\n",
    "\n",
    "    return pd.crosstab(Y_true, Y_pred, rownames=['True'], colnames=['Pred'])"
   ]
  },
  {
   "cell_type": "markdown",
   "metadata": {},
   "source": [
    "### Data"
   ]
  },
  {
   "cell_type": "code",
   "execution_count": 4,
   "metadata": {},
   "outputs": [],
   "source": [
    "# Data directory\n",
    "DATADIR = 'UCI_HAR_Dataset'"
   ]
  },
  {
   "cell_type": "code",
   "execution_count": 5,
   "metadata": {},
   "outputs": [],
   "source": [
    "# Raw data signals\n",
    "# Signals are from Accelerometer and Gyroscope\n",
    "# The signals are in x,y,z directions\n",
    "# Sensor signals are filtered to have only body acceleration\n",
    "# excluding the acceleration due to gravity\n",
    "# Triaxial acceleration from the accelerometer is total acceleration\n",
    "SIGNALS = [\n",
    "    \"body_acc_x\",\n",
    "    \"body_acc_y\",\n",
    "    \"body_acc_z\",\n",
    "    \"body_gyro_x\",\n",
    "    \"body_gyro_y\",\n",
    "    \"body_gyro_z\",\n",
    "    \"total_acc_x\",\n",
    "    \"total_acc_y\",\n",
    "    \"total_acc_z\"\n",
    "]"
   ]
  },
  {
   "cell_type": "code",
   "execution_count": 6,
   "metadata": {},
   "outputs": [],
   "source": [
    "# Utility function to read the data from csv file\n",
    "def _read_csv(filename):\n",
    "    return pd.read_csv(filename, delim_whitespace=True, header=None)\n",
    "\n",
    "# Utility function to load the load\n",
    "def load_signals(subset):\n",
    "    signals_data = []\n",
    "\n",
    "    for signal in SIGNALS:\n",
    "        filename = f'UCI_HAR_Dataset/{subset}/Inertial Signals/{signal}_{subset}.txt'\n",
    "        signals_data.append(\n",
    "            _read_csv(filename).values\n",
    "        ) \n",
    "\n",
    "    # Transpose is used to change the dimensionality of the output,\n",
    "    # aggregating the signals by combination of sample/timestep.\n",
    "    # Resultant shape is (7352 train/2947 test samples, 128 timesteps, 9 signals)\n",
    "    return np.transpose(signals_data, (1, 2, 0))"
   ]
  },
  {
   "cell_type": "code",
   "execution_count": 7,
   "metadata": {},
   "outputs": [],
   "source": [
    "\n",
    "def load_y(subset):\n",
    "    \"\"\"\n",
    "    The objective that we are trying to predict is a integer, from 1 to 6,\n",
    "    that represents a human activity. We return a binary representation of \n",
    "    every sample objective as a 6 bits vector using One Hot Encoding\n",
    "    (https://pandas.pydata.org/pandas-docs/stable/generated/pandas.get_dummies.html)\n",
    "    \"\"\"\n",
    "    filename = f'UCI_HAR_Dataset/{subset}/y_{subset}.txt'\n",
    "    y = _read_csv(filename)[0]\n",
    "\n",
    "    return pd.get_dummies(y).values"
   ]
  },
  {
   "cell_type": "code",
   "execution_count": 8,
   "metadata": {},
   "outputs": [],
   "source": [
    "def load_data():\n",
    "    \"\"\"\n",
    "    Obtain the dataset from multiple files.\n",
    "    Returns: X_train, X_test, y_train, y_test\n",
    "    \"\"\"\n",
    "    X_train, X_test = load_signals('train'), load_signals('test')\n",
    "    y_train, y_test = load_y('train'), load_y('test')\n",
    "\n",
    "    return X_train, X_test, y_train, y_test"
   ]
  },
  {
   "cell_type": "code",
   "execution_count": 9,
   "metadata": {},
   "outputs": [],
   "source": [
    "# Importing tensorflow\n",
    "np.random.seed(42)\n",
    "import tensorflow as tf\n",
    "# tf.set_random_seed(42)\n",
    "\n",
    "# Set the seed for reproducibility\n",
    "tf.random.set_seed(42)"
   ]
  },
  {
   "cell_type": "code",
   "execution_count": 10,
   "metadata": {},
   "outputs": [],
   "source": [
    "# Configuring a session\n",
    "# session_conf = tf.config(\n",
    "#     intra_op_parallelism_threads=1,\n",
    "#     inter_op_parallelism_threads=1\n",
    "# )\n",
    "\n",
    "tf.config.threading.set_inter_op_parallelism_threads(1)\n",
    "tf.config.threading.set_intra_op_parallelism_threads(1)\n"
   ]
  },
  {
   "cell_type": "code",
   "execution_count": 11,
   "metadata": {},
   "outputs": [],
   "source": [
    "# Import Keras\n",
    "from keras import backend as K\n",
    "# sess = tf.Session(graph=tf.get_default_graph(), config=session_conf)\n",
    "# K.set_session(sess)\n",
    "\n",
    "# model = tf.keras.Sequential([\n",
    "#     # ... define your model layers here ...\n",
    "# ])\n"
   ]
  },
  {
   "cell_type": "code",
   "execution_count": 12,
   "metadata": {},
   "outputs": [],
   "source": [
    "# Importing libraries\n",
    "from keras.models import Sequential\n",
    "from keras.layers import LSTM\n",
    "from keras.layers import Dense, Dropout"
   ]
  },
  {
   "cell_type": "code",
   "execution_count": 13,
   "metadata": {},
   "outputs": [],
   "source": [
    "# Initializing parameters\n",
    "epochs = 30\n",
    "batch_size = 16\n",
    "n_hidden = 32"
   ]
  },
  {
   "cell_type": "code",
   "execution_count": 14,
   "metadata": {},
   "outputs": [],
   "source": [
    "# Utility function to count the number of classes\n",
    "def _count_classes(y):\n",
    "    return len(set([tuple(category) for category in y]))"
   ]
  },
  {
   "cell_type": "code",
   "execution_count": 15,
   "metadata": {},
   "outputs": [],
   "source": [
    "# Loading the train and test data\n",
    "X_train, X_test, Y_train, Y_test = load_data()"
   ]
  },
  {
   "cell_type": "code",
   "execution_count": 16,
   "metadata": {},
   "outputs": [
    {
     "name": "stdout",
     "output_type": "stream",
     "text": [
      "128\n",
      "9\n",
      "7352\n"
     ]
    }
   ],
   "source": [
    "timesteps = len(X_train[0])\n",
    "input_dim = len(X_train[0][0])\n",
    "n_classes = _count_classes(Y_train)\n",
    "\n",
    "print(timesteps)\n",
    "print(input_dim)\n",
    "print(len(X_train))"
   ]
  },
  {
   "cell_type": "markdown",
   "metadata": {},
   "source": [
    "- Defining the Architecture of LSTM"
   ]
  },
  {
   "cell_type": "code",
   "execution_count": 17,
   "metadata": {},
   "outputs": [
    {
     "name": "stdout",
     "output_type": "stream",
     "text": [
      "Model: \"sequential\"\n",
      "_________________________________________________________________\n",
      " Layer (type)                Output Shape              Param #   \n",
      "=================================================================\n",
      " lstm (LSTM)                 (None, 32)                5376      \n",
      "                                                                 \n",
      " dropout (Dropout)           (None, 32)                0         \n",
      "                                                                 \n",
      " dense (Dense)               (None, 6)                 198       \n",
      "                                                                 \n",
      "=================================================================\n",
      "Total params: 5574 (21.77 KB)\n",
      "Trainable params: 5574 (21.77 KB)\n",
      "Non-trainable params: 0 (0.00 Byte)\n",
      "_________________________________________________________________\n"
     ]
    }
   ],
   "source": [
    "# Initiliazing the sequential model\n",
    "model = Sequential()\n",
    "# Configuring the parameters\n",
    "model.add(LSTM(n_hidden, input_shape=(timesteps, input_dim)))\n",
    "# Adding a dropout layer\n",
    "model.add(Dropout(0.5))\n",
    "# Adding a dense output layer with sigmoid activation\n",
    "model.add(Dense(n_classes, activation='sigmoid'))\n",
    "model.summary()"
   ]
  },
  {
   "cell_type": "code",
   "execution_count": 18,
   "metadata": {},
   "outputs": [],
   "source": [
    "# Compiling the model\n",
    "model.compile(loss='categorical_crossentropy',\n",
    "              optimizer='rmsprop',\n",
    "              metrics=['accuracy'])"
   ]
  },
  {
   "cell_type": "code",
   "execution_count": 19,
   "metadata": {},
   "outputs": [
    {
     "name": "stdout",
     "output_type": "stream",
     "text": [
      "Epoch 1/30\n",
      "460/460 [==============================] - 6s 12ms/step - loss: 1.1798 - accuracy: 0.5004 - val_loss: 0.9264 - val_accuracy: 0.6200\n",
      "Epoch 2/30\n",
      "460/460 [==============================] - 5s 12ms/step - loss: 0.7699 - accuracy: 0.6644 - val_loss: 0.7103 - val_accuracy: 0.7190\n",
      "Epoch 3/30\n",
      "460/460 [==============================] - 5s 12ms/step - loss: 0.6289 - accuracy: 0.7655 - val_loss: 0.6663 - val_accuracy: 0.7604\n",
      "Epoch 4/30\n",
      "460/460 [==============================] - 5s 12ms/step - loss: 0.4533 - accuracy: 0.8521 - val_loss: 0.8300 - val_accuracy: 0.7577\n",
      "Epoch 5/30\n",
      "460/460 [==============================] - 6s 12ms/step - loss: 0.3542 - accuracy: 0.8876 - val_loss: 0.5815 - val_accuracy: 0.8426\n",
      "Epoch 6/30\n",
      "460/460 [==============================] - 6s 12ms/step - loss: 0.3137 - accuracy: 0.9003 - val_loss: 0.6363 - val_accuracy: 0.8415\n",
      "Epoch 7/30\n",
      "460/460 [==============================] - 6s 12ms/step - loss: 0.2662 - accuracy: 0.9124 - val_loss: 0.3872 - val_accuracy: 0.8680\n",
      "Epoch 8/30\n",
      "460/460 [==============================] - 6s 12ms/step - loss: 0.2358 - accuracy: 0.9246 - val_loss: 0.4473 - val_accuracy: 0.8772\n",
      "Epoch 9/30\n",
      "460/460 [==============================] - 6s 12ms/step - loss: 0.2020 - accuracy: 0.9319 - val_loss: 0.3907 - val_accuracy: 0.8860\n",
      "Epoch 10/30\n",
      "460/460 [==============================] - 6s 12ms/step - loss: 0.1987 - accuracy: 0.9353 - val_loss: 0.3560 - val_accuracy: 0.8975\n",
      "Epoch 11/30\n",
      "460/460 [==============================] - 5s 12ms/step - loss: 0.1789 - accuracy: 0.9346 - val_loss: 0.3697 - val_accuracy: 0.8965\n",
      "Epoch 12/30\n",
      "460/460 [==============================] - 5s 12ms/step - loss: 0.1782 - accuracy: 0.9355 - val_loss: 0.4512 - val_accuracy: 0.8826\n",
      "Epoch 13/30\n",
      "460/460 [==============================] - 6s 12ms/step - loss: 0.1677 - accuracy: 0.9411 - val_loss: 0.3306 - val_accuracy: 0.8989\n",
      "Epoch 14/30\n",
      "460/460 [==============================] - 6s 12ms/step - loss: 0.1613 - accuracy: 0.9444 - val_loss: 0.4180 - val_accuracy: 0.8941\n",
      "Epoch 15/30\n",
      "460/460 [==============================] - 6s 12ms/step - loss: 0.1575 - accuracy: 0.9433 - val_loss: 0.5303 - val_accuracy: 0.8972\n",
      "Epoch 16/30\n",
      "460/460 [==============================] - 6s 13ms/step - loss: 0.1568 - accuracy: 0.9438 - val_loss: 0.4009 - val_accuracy: 0.8924\n",
      "Epoch 17/30\n",
      "460/460 [==============================] - 6s 12ms/step - loss: 0.1687 - accuracy: 0.9430 - val_loss: 0.4268 - val_accuracy: 0.9036\n",
      "Epoch 18/30\n",
      "460/460 [==============================] - 6s 12ms/step - loss: 0.1473 - accuracy: 0.9423 - val_loss: 0.3658 - val_accuracy: 0.9091\n",
      "Epoch 19/30\n",
      "460/460 [==============================] - 5s 12ms/step - loss: 0.1497 - accuracy: 0.9429 - val_loss: 0.4248 - val_accuracy: 0.9057\n",
      "Epoch 20/30\n",
      "460/460 [==============================] - 5s 12ms/step - loss: 0.1459 - accuracy: 0.9442 - val_loss: 0.3271 - val_accuracy: 0.9125\n",
      "Epoch 21/30\n",
      "460/460 [==============================] - 6s 12ms/step - loss: 0.1440 - accuracy: 0.9468 - val_loss: 0.3876 - val_accuracy: 0.9050\n",
      "Epoch 22/30\n",
      "460/460 [==============================] - 6s 12ms/step - loss: 0.1451 - accuracy: 0.9484 - val_loss: 0.4097 - val_accuracy: 0.9125\n",
      "Epoch 23/30\n",
      "460/460 [==============================] - 6s 12ms/step - loss: 0.1390 - accuracy: 0.9491 - val_loss: 0.5992 - val_accuracy: 0.8965\n",
      "Epoch 24/30\n",
      "460/460 [==============================] - 5s 12ms/step - loss: 0.1751 - accuracy: 0.9474 - val_loss: 0.4608 - val_accuracy: 0.9067\n",
      "Epoch 25/30\n",
      "460/460 [==============================] - 6s 12ms/step - loss: 0.1499 - accuracy: 0.9476 - val_loss: 0.4653 - val_accuracy: 0.8972\n",
      "Epoch 26/30\n",
      "460/460 [==============================] - 5s 12ms/step - loss: 0.1467 - accuracy: 0.9464 - val_loss: 0.3722 - val_accuracy: 0.9121\n",
      "Epoch 27/30\n",
      "460/460 [==============================] - 5s 12ms/step - loss: 0.1382 - accuracy: 0.9509 - val_loss: 0.4138 - val_accuracy: 0.9033\n",
      "Epoch 28/30\n",
      "460/460 [==============================] - 6s 12ms/step - loss: 0.1500 - accuracy: 0.9464 - val_loss: 0.4016 - val_accuracy: 0.9080\n",
      "Epoch 29/30\n",
      "460/460 [==============================] - 6s 12ms/step - loss: 0.1522 - accuracy: 0.9464 - val_loss: 0.3928 - val_accuracy: 0.9108\n",
      "Epoch 30/30\n",
      "460/460 [==============================] - 6s 12ms/step - loss: 0.1539 - accuracy: 0.9457 - val_loss: 0.4282 - val_accuracy: 0.8853\n"
     ]
    },
    {
     "data": {
      "text/plain": [
       "<keras.src.callbacks.History at 0x28f349270>"
      ]
     },
     "execution_count": 19,
     "metadata": {},
     "output_type": "execute_result"
    }
   ],
   "source": [
    "# Training the model\n",
    "model.fit(X_train,\n",
    "          Y_train,\n",
    "          batch_size=batch_size,\n",
    "          validation_data=(X_test, Y_test),\n",
    "          epochs=epochs)"
   ]
  },
  {
   "cell_type": "code",
   "execution_count": 20,
   "metadata": {},
   "outputs": [
    {
     "name": "stdout",
     "output_type": "stream",
     "text": [
      "93/93 [==============================] - 0s 4ms/step\n",
      "Pred                LAYING  SITTING  STANDING  WALKING  WALKING_DOWNSTAIRS  \\\n",
      "True                                                                         \n",
      "LAYING                 510        0         0        0                   0   \n",
      "SITTING                  1      349       139        0                   1   \n",
      "STANDING                 0       91       441        0                   0   \n",
      "WALKING                  0        4         4      476                  11   \n",
      "WALKING_DOWNSTAIRS       0        0         0        1                 417   \n",
      "WALKING_UPSTAIRS         0        4        15       31                   5   \n",
      "\n",
      "Pred                WALKING_UPSTAIRS  \n",
      "True                                  \n",
      "LAYING                            27  \n",
      "SITTING                            1  \n",
      "STANDING                           0  \n",
      "WALKING                            1  \n",
      "WALKING_DOWNSTAIRS                 2  \n",
      "WALKING_UPSTAIRS                 416  \n"
     ]
    }
   ],
   "source": [
    "# Confusion Matrix\n",
    "print(confusion_matrix(Y_test, model.predict(X_test)))"
   ]
  },
  {
   "cell_type": "code",
   "execution_count": 21,
   "metadata": {},
   "outputs": [
    {
     "name": "stdout",
     "output_type": "stream",
     "text": [
      "93/93 [==============================] - 0s 4ms/step - loss: 0.4282 - accuracy: 0.8853\n"
     ]
    }
   ],
   "source": [
    "score = model.evaluate(X_test, Y_test)"
   ]
  },
  {
   "cell_type": "code",
   "execution_count": 22,
   "metadata": {},
   "outputs": [
    {
     "data": {
      "text/plain": [
       "[0.42819055914878845, 0.8853070735931396]"
      ]
     },
     "execution_count": 22,
     "metadata": {},
     "output_type": "execute_result"
    }
   ],
   "source": [
    "score"
   ]
  },
  {
   "cell_type": "markdown",
   "metadata": {},
   "source": [
    "- With a simple 2 layer architecture we got 90.09% accuracy and a loss of 0.30\n",
    "- We can further imporve the performace with Hyperparameter tuning"
   ]
  }
 ],
 "metadata": {
  "kernelspec": {
   "display_name": "Python 3 (ipykernel)",
   "language": "python",
   "name": "python3"
  },
  "language_info": {
   "codemirror_mode": {
    "name": "ipython",
    "version": 3
   },
   "file_extension": ".py",
   "mimetype": "text/x-python",
   "name": "python",
   "nbconvert_exporter": "python",
   "pygments_lexer": "ipython3",
   "version": "3.10.13"
  }
 },
 "nbformat": 4,
 "nbformat_minor": 4
}
